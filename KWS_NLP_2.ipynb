{
  "nbformat": 4,
  "nbformat_minor": 0,
  "metadata": {
    "colab": {
      "provenance": [],
      "collapsed_sections": [],
      "mount_file_id": "1onenUPg3gDjeWbtonNs2yE_l8qgj7guF",
      "authorship_tag": "ABX9TyNqN3p40RiMI1XujQdg+b/G",
      "include_colab_link": true
    },
    "kernelspec": {
      "name": "python3",
      "display_name": "Python 3"
    },
    "language_info": {
      "name": "python"
    },
    "accelerator": "GPU"
  },
  "cells": [
    {
      "cell_type": "markdown",
      "metadata": {
        "id": "view-in-github",
        "colab_type": "text"
      },
      "source": [
        "<a href=\"https://colab.research.google.com/github/steven-mpawulo/KWS_NLP_DeepLearning/blob/main/KWS_NLP_2.ipynb\" target=\"_parent\"><img src=\"https://colab.research.google.com/assets/colab-badge.svg\" alt=\"Open In Colab\"/></a>"
      ]
    },
    {
      "cell_type": "code",
      "execution_count": 1,
      "metadata": {
        "id": "q3jJlXWdre57"
      },
      "outputs": [],
      "source": [
        "import os \n",
        "from glob import glob\n",
        "import librosa\n",
        "from IPython.display import Audio\n",
        "import pandas as pd\n",
        "import numpy as np\n"
      ]
    },
    {
      "cell_type": "code",
      "source": [
        "df = pd.read_csv('/content/drive/MyDrive/KWS Dataset/Train.csv')"
      ],
      "metadata": {
        "id": "Djj-7WGXsljy"
      },
      "execution_count": 2,
      "outputs": []
    },
    {
      "cell_type": "code",
      "source": [
        "df"
      ],
      "metadata": {
        "colab": {
          "base_uri": "https://localhost:8080/",
          "height": 424
        },
        "id": "cj1lzFHesy2f",
        "outputId": "5fd46fe4-4af2-4762-ece8-190c87639d01"
      },
      "execution_count": 3,
      "outputs": [
        {
          "output_type": "execute_result",
          "data": {
            "text/plain": [
              "                           fn        label\n",
              "0     audio_files/IV38R7F.wav      akawuka\n",
              "1     audio_files/KM4SKWT.wav       banana\n",
              "2     audio_files/F5POSU9.wav    obulwadde\n",
              "3     audio_files/MMVDXG2.wav     nnyaanya\n",
              "4     audio_files/9TVM96F.wav        pampu\n",
              "...                       ...          ...\n",
              "1104  audio_files/QNZECA9.wav      cassava\n",
              "1105  audio_files/GUIY718.wav   harvesting\n",
              "1106  audio_files/W38UIGC.wav         farm\n",
              "1107  audio_files/E04FSN7.wav  nakavundira\n",
              "1108  audio_files/2MV9KPP.wav  nursery bed\n",
              "\n",
              "[1109 rows x 2 columns]"
            ],
            "text/html": [
              "\n",
              "  <div id=\"df-9bc7e153-1aea-460e-8553-2b352618dc36\">\n",
              "    <div class=\"colab-df-container\">\n",
              "      <div>\n",
              "<style scoped>\n",
              "    .dataframe tbody tr th:only-of-type {\n",
              "        vertical-align: middle;\n",
              "    }\n",
              "\n",
              "    .dataframe tbody tr th {\n",
              "        vertical-align: top;\n",
              "    }\n",
              "\n",
              "    .dataframe thead th {\n",
              "        text-align: right;\n",
              "    }\n",
              "</style>\n",
              "<table border=\"1\" class=\"dataframe\">\n",
              "  <thead>\n",
              "    <tr style=\"text-align: right;\">\n",
              "      <th></th>\n",
              "      <th>fn</th>\n",
              "      <th>label</th>\n",
              "    </tr>\n",
              "  </thead>\n",
              "  <tbody>\n",
              "    <tr>\n",
              "      <th>0</th>\n",
              "      <td>audio_files/IV38R7F.wav</td>\n",
              "      <td>akawuka</td>\n",
              "    </tr>\n",
              "    <tr>\n",
              "      <th>1</th>\n",
              "      <td>audio_files/KM4SKWT.wav</td>\n",
              "      <td>banana</td>\n",
              "    </tr>\n",
              "    <tr>\n",
              "      <th>2</th>\n",
              "      <td>audio_files/F5POSU9.wav</td>\n",
              "      <td>obulwadde</td>\n",
              "    </tr>\n",
              "    <tr>\n",
              "      <th>3</th>\n",
              "      <td>audio_files/MMVDXG2.wav</td>\n",
              "      <td>nnyaanya</td>\n",
              "    </tr>\n",
              "    <tr>\n",
              "      <th>4</th>\n",
              "      <td>audio_files/9TVM96F.wav</td>\n",
              "      <td>pampu</td>\n",
              "    </tr>\n",
              "    <tr>\n",
              "      <th>...</th>\n",
              "      <td>...</td>\n",
              "      <td>...</td>\n",
              "    </tr>\n",
              "    <tr>\n",
              "      <th>1104</th>\n",
              "      <td>audio_files/QNZECA9.wav</td>\n",
              "      <td>cassava</td>\n",
              "    </tr>\n",
              "    <tr>\n",
              "      <th>1105</th>\n",
              "      <td>audio_files/GUIY718.wav</td>\n",
              "      <td>harvesting</td>\n",
              "    </tr>\n",
              "    <tr>\n",
              "      <th>1106</th>\n",
              "      <td>audio_files/W38UIGC.wav</td>\n",
              "      <td>farm</td>\n",
              "    </tr>\n",
              "    <tr>\n",
              "      <th>1107</th>\n",
              "      <td>audio_files/E04FSN7.wav</td>\n",
              "      <td>nakavundira</td>\n",
              "    </tr>\n",
              "    <tr>\n",
              "      <th>1108</th>\n",
              "      <td>audio_files/2MV9KPP.wav</td>\n",
              "      <td>nursery bed</td>\n",
              "    </tr>\n",
              "  </tbody>\n",
              "</table>\n",
              "<p>1109 rows × 2 columns</p>\n",
              "</div>\n",
              "      <button class=\"colab-df-convert\" onclick=\"convertToInteractive('df-9bc7e153-1aea-460e-8553-2b352618dc36')\"\n",
              "              title=\"Convert this dataframe to an interactive table.\"\n",
              "              style=\"display:none;\">\n",
              "        \n",
              "  <svg xmlns=\"http://www.w3.org/2000/svg\" height=\"24px\"viewBox=\"0 0 24 24\"\n",
              "       width=\"24px\">\n",
              "    <path d=\"M0 0h24v24H0V0z\" fill=\"none\"/>\n",
              "    <path d=\"M18.56 5.44l.94 2.06.94-2.06 2.06-.94-2.06-.94-.94-2.06-.94 2.06-2.06.94zm-11 1L8.5 8.5l.94-2.06 2.06-.94-2.06-.94L8.5 2.5l-.94 2.06-2.06.94zm10 10l.94 2.06.94-2.06 2.06-.94-2.06-.94-.94-2.06-.94 2.06-2.06.94z\"/><path d=\"M17.41 7.96l-1.37-1.37c-.4-.4-.92-.59-1.43-.59-.52 0-1.04.2-1.43.59L10.3 9.45l-7.72 7.72c-.78.78-.78 2.05 0 2.83L4 21.41c.39.39.9.59 1.41.59.51 0 1.02-.2 1.41-.59l7.78-7.78 2.81-2.81c.8-.78.8-2.07 0-2.86zM5.41 20L4 18.59l7.72-7.72 1.47 1.35L5.41 20z\"/>\n",
              "  </svg>\n",
              "      </button>\n",
              "      \n",
              "  <style>\n",
              "    .colab-df-container {\n",
              "      display:flex;\n",
              "      flex-wrap:wrap;\n",
              "      gap: 12px;\n",
              "    }\n",
              "\n",
              "    .colab-df-convert {\n",
              "      background-color: #E8F0FE;\n",
              "      border: none;\n",
              "      border-radius: 50%;\n",
              "      cursor: pointer;\n",
              "      display: none;\n",
              "      fill: #1967D2;\n",
              "      height: 32px;\n",
              "      padding: 0 0 0 0;\n",
              "      width: 32px;\n",
              "    }\n",
              "\n",
              "    .colab-df-convert:hover {\n",
              "      background-color: #E2EBFA;\n",
              "      box-shadow: 0px 1px 2px rgba(60, 64, 67, 0.3), 0px 1px 3px 1px rgba(60, 64, 67, 0.15);\n",
              "      fill: #174EA6;\n",
              "    }\n",
              "\n",
              "    [theme=dark] .colab-df-convert {\n",
              "      background-color: #3B4455;\n",
              "      fill: #D2E3FC;\n",
              "    }\n",
              "\n",
              "    [theme=dark] .colab-df-convert:hover {\n",
              "      background-color: #434B5C;\n",
              "      box-shadow: 0px 1px 3px 1px rgba(0, 0, 0, 0.15);\n",
              "      filter: drop-shadow(0px 1px 2px rgba(0, 0, 0, 0.3));\n",
              "      fill: #FFFFFF;\n",
              "    }\n",
              "  </style>\n",
              "\n",
              "      <script>\n",
              "        const buttonEl =\n",
              "          document.querySelector('#df-9bc7e153-1aea-460e-8553-2b352618dc36 button.colab-df-convert');\n",
              "        buttonEl.style.display =\n",
              "          google.colab.kernel.accessAllowed ? 'block' : 'none';\n",
              "\n",
              "        async function convertToInteractive(key) {\n",
              "          const element = document.querySelector('#df-9bc7e153-1aea-460e-8553-2b352618dc36');\n",
              "          const dataTable =\n",
              "            await google.colab.kernel.invokeFunction('convertToInteractive',\n",
              "                                                     [key], {});\n",
              "          if (!dataTable) return;\n",
              "\n",
              "          const docLinkHtml = 'Like what you see? Visit the ' +\n",
              "            '<a target=\"_blank\" href=https://colab.research.google.com/notebooks/data_table.ipynb>data table notebook</a>'\n",
              "            + ' to learn more about interactive tables.';\n",
              "          element.innerHTML = '';\n",
              "          dataTable['output_type'] = 'display_data';\n",
              "          await google.colab.output.renderOutput(dataTable, element);\n",
              "          const docLink = document.createElement('div');\n",
              "          docLink.innerHTML = docLinkHtml;\n",
              "          element.appendChild(docLink);\n",
              "        }\n",
              "      </script>\n",
              "    </div>\n",
              "  </div>\n",
              "  "
            ]
          },
          "metadata": {},
          "execution_count": 3
        }
      ]
    },
    {
      "cell_type": "code",
      "source": [
        "def extractmfcc(filename):\n",
        "  pathToDirectory = '/content/drive/MyDrive/audio_files/'\n",
        "  pathToFile = pathToDirectory+filename\n",
        "  y, sr = librosa.load(pathToFile, duration=2, offset=0.5)\n",
        "  z = np.mean(librosa.feature.mfcc(y=y, sr=sr,n_mfcc=40).T, axis=0)\n",
        "  return z"
      ],
      "metadata": {
        "id": "d1kfU3vBtCWD"
      },
      "execution_count": 4,
      "outputs": []
    },
    {
      "cell_type": "code",
      "source": [
        "X = df['fn'].apply(lambda x: extractmfcc(x))"
      ],
      "metadata": {
        "id": "K1M8rnqR2mZN"
      },
      "execution_count": 5,
      "outputs": []
    },
    {
      "cell_type": "code",
      "source": [
        "X"
      ],
      "metadata": {
        "colab": {
          "base_uri": "https://localhost:8080/"
        },
        "id": "kcj11jaP3N26",
        "outputId": "e71f6b11-c9c8-48b1-aee4-73f0f1869a65"
      },
      "execution_count": 6,
      "outputs": [
        {
          "output_type": "execute_result",
          "data": {
            "text/plain": [
              "0       [-452.45056, 50.019966, -9.084012, 6.655481, -...\n",
              "1       [-104.03392, 139.45177, -7.0342426, 20.402224,...\n",
              "2       [-41.928173, 90.162605, -21.265919, 28.776848,...\n",
              "3       [-448.31302, 104.16875, -0.92754793, 24.056831...\n",
              "4       [-366.43585, 123.214584, -42.20649, 17.503002,...\n",
              "                              ...                        \n",
              "1104    [-77.67435, 122.18666, -5.531857, 22.741407, 1...\n",
              "1105    [-416.9687, 46.074955, 7.73032, 23.920544, -25...\n",
              "1106    [-438.97623, 123.42303, 23.973106, 28.107801, ...\n",
              "1107    [-632.4703, 105.0045, 7.2317038, 52.5361, -11....\n",
              "1108    [-354.9069, 95.87982, -19.077534, 35.585175, 6...\n",
              "Name: fn, Length: 1109, dtype: object"
            ]
          },
          "metadata": {},
          "execution_count": 6
        }
      ]
    },
    {
      "cell_type": "code",
      "source": [
        "X = [x for x in X]\n",
        "X = np.array(X)\n",
        "X.shape"
      ],
      "metadata": {
        "colab": {
          "base_uri": "https://localhost:8080/"
        },
        "id": "E-eFJI3q4lOk",
        "outputId": "71424e91-b521-4e38-a2d3-65f462eea990"
      },
      "execution_count": 7,
      "outputs": [
        {
          "output_type": "execute_result",
          "data": {
            "text/plain": [
              "(1109, 40)"
            ]
          },
          "metadata": {},
          "execution_count": 7
        }
      ]
    },
    {
      "cell_type": "code",
      "source": [
        "X = np.expand_dims(X, -1)"
      ],
      "metadata": {
        "id": "nM9uIAMU4zr6"
      },
      "execution_count": 8,
      "outputs": []
    },
    {
      "cell_type": "code",
      "source": [
        "X.shape"
      ],
      "metadata": {
        "colab": {
          "base_uri": "https://localhost:8080/"
        },
        "id": "Ts7KIZr649ri",
        "outputId": "2ac8a585-72e1-44de-c61e-fe8e821a1249"
      },
      "execution_count": 9,
      "outputs": [
        {
          "output_type": "execute_result",
          "data": {
            "text/plain": [
              "(1109, 40, 1)"
            ]
          },
          "metadata": {},
          "execution_count": 9
        }
      ]
    },
    {
      "cell_type": "code",
      "source": [
        "import sklearn\n",
        "from sklearn.preprocessing import OneHotEncoder\n",
        "enc = OneHotEncoder()\n",
        "y = enc.fit_transform(df[['label']])"
      ],
      "metadata": {
        "id": "HdqYt4TT5BaA"
      },
      "execution_count": 10,
      "outputs": []
    },
    {
      "cell_type": "code",
      "source": [
        "y = y.toarray()"
      ],
      "metadata": {
        "id": "BwYeS1sU7Owt"
      },
      "execution_count": 11,
      "outputs": []
    },
    {
      "cell_type": "code",
      "source": [
        "y.shape"
      ],
      "metadata": {
        "colab": {
          "base_uri": "https://localhost:8080/"
        },
        "id": "3KHAWnFY7Zl9",
        "outputId": "e0034c0a-e104-4f69-8b12-523c7e56bbd9"
      },
      "execution_count": 12,
      "outputs": [
        {
          "output_type": "execute_result",
          "data": {
            "text/plain": [
              "(1109, 193)"
            ]
          },
          "metadata": {},
          "execution_count": 12
        }
      ]
    },
    {
      "cell_type": "code",
      "source": [
        "from keras import models\n",
        "from keras import layers\n"
      ],
      "metadata": {
        "id": "Z02z9BI19UoR"
      },
      "execution_count": 25,
      "outputs": []
    },
    {
      "cell_type": "code",
      "source": [
        "model = models.Sequential()\n",
        "model.add(layers.LSTM(128, return_sequences=False, input_shape=(40, 1)))\n",
        "model.add(layers.Dense(32, activation='relu'))\n",
        "model.add(layers.Dropout(0.2))\n",
        "model.add(layers.Dense(64, activation='relu'))\n",
        "model.add(layers.Dropout(0.2))\n",
        "model.add(layers.Dense(128, activation='relu'))\n",
        "model.add(layers.Dropout(0.2))\n",
        "model.add(layers.Dense(256, activation='relu'))\n",
        "model.add(layers.Dropout(0.2))\n",
        "model.add(layers.Dense(193, activation='softmax'))\n",
        "\n",
        "model.summary()\n"
      ],
      "metadata": {
        "colab": {
          "base_uri": "https://localhost:8080/"
        },
        "id": "apLzB2ri9bEV",
        "outputId": "e4b1d3d5-7a70-44c4-cc24-8b6145f3e1c3"
      },
      "execution_count": 27,
      "outputs": [
        {
          "output_type": "stream",
          "name": "stdout",
          "text": [
            "Model: \"sequential_6\"\n",
            "_________________________________________________________________\n",
            " Layer (type)                Output Shape              Param #   \n",
            "=================================================================\n",
            " lstm_1 (LSTM)               (None, 128)               66560     \n",
            "                                                                 \n",
            " dense_15 (Dense)            (None, 32)                4128      \n",
            "                                                                 \n",
            " dropout_12 (Dropout)        (None, 32)                0         \n",
            "                                                                 \n",
            " dense_16 (Dense)            (None, 64)                2112      \n",
            "                                                                 \n",
            " dropout_13 (Dropout)        (None, 64)                0         \n",
            "                                                                 \n",
            " dense_17 (Dense)            (None, 128)               8320      \n",
            "                                                                 \n",
            " dropout_14 (Dropout)        (None, 128)               0         \n",
            "                                                                 \n",
            " dense_18 (Dense)            (None, 256)               33024     \n",
            "                                                                 \n",
            " dropout_15 (Dropout)        (None, 256)               0         \n",
            "                                                                 \n",
            " dense_19 (Dense)            (None, 193)               49601     \n",
            "                                                                 \n",
            "=================================================================\n",
            "Total params: 163,745\n",
            "Trainable params: 163,745\n",
            "Non-trainable params: 0\n",
            "_________________________________________________________________\n"
          ]
        }
      ]
    },
    {
      "cell_type": "code",
      "source": [
        "model.compile(optimizer='adam', loss='categorical_crossentropy', metrics='accuracy')"
      ],
      "metadata": {
        "id": "DMAcj4rc_uuO"
      },
      "execution_count": 28,
      "outputs": []
    },
    {
      "cell_type": "code",
      "source": [
        "Epochs = 50\n",
        "model.fit(X, y, validation_split=0.2, batch_size=32, shuffle=True, epochs=Epochs)"
      ],
      "metadata": {
        "colab": {
          "base_uri": "https://localhost:8080/"
        },
        "id": "i6JYzOCzBikJ",
        "outputId": "52d5608b-c133-468c-d92a-130b45e83ecb"
      },
      "execution_count": 31,
      "outputs": [
        {
          "output_type": "stream",
          "name": "stdout",
          "text": [
            "Epoch 1/100\n",
            "28/28 [==============================] - 0s 9ms/step - loss: 1.3251 - accuracy: 0.5671 - val_loss: 13.2766 - val_accuracy: 0.0315\n",
            "Epoch 2/100\n",
            "28/28 [==============================] - 0s 10ms/step - loss: 1.1706 - accuracy: 0.6223 - val_loss: 13.3050 - val_accuracy: 0.0450\n",
            "Epoch 3/100\n",
            "28/28 [==============================] - 0s 10ms/step - loss: 1.2720 - accuracy: 0.5975 - val_loss: 12.8349 - val_accuracy: 0.0360\n",
            "Epoch 4/100\n",
            "28/28 [==============================] - 0s 8ms/step - loss: 1.2145 - accuracy: 0.6178 - val_loss: 13.2603 - val_accuracy: 0.0270\n",
            "Epoch 5/100\n",
            "28/28 [==============================] - 0s 9ms/step - loss: 1.1871 - accuracy: 0.6415 - val_loss: 13.8734 - val_accuracy: 0.0180\n",
            "Epoch 6/100\n",
            "28/28 [==============================] - 0s 9ms/step - loss: 1.1822 - accuracy: 0.6156 - val_loss: 13.7832 - val_accuracy: 0.0315\n",
            "Epoch 7/100\n",
            "28/28 [==============================] - 0s 10ms/step - loss: 1.2769 - accuracy: 0.6110 - val_loss: 13.4640 - val_accuracy: 0.0315\n",
            "Epoch 8/100\n",
            "28/28 [==============================] - 0s 9ms/step - loss: 1.2115 - accuracy: 0.6077 - val_loss: 13.3846 - val_accuracy: 0.0225\n",
            "Epoch 9/100\n",
            "28/28 [==============================] - 0s 8ms/step - loss: 1.1355 - accuracy: 0.6133 - val_loss: 13.5666 - val_accuracy: 0.0315\n",
            "Epoch 10/100\n",
            "28/28 [==============================] - 0s 8ms/step - loss: 1.2017 - accuracy: 0.6110 - val_loss: 13.4767 - val_accuracy: 0.0360\n",
            "Epoch 11/100\n",
            "28/28 [==============================] - 0s 10ms/step - loss: 1.1363 - accuracy: 0.6437 - val_loss: 13.5233 - val_accuracy: 0.0405\n",
            "Epoch 12/100\n",
            "28/28 [==============================] - 0s 8ms/step - loss: 1.2565 - accuracy: 0.5896 - val_loss: 13.4144 - val_accuracy: 0.0225\n",
            "Epoch 13/100\n",
            "28/28 [==============================] - 0s 8ms/step - loss: 1.2507 - accuracy: 0.5953 - val_loss: 13.1124 - val_accuracy: 0.0270\n",
            "Epoch 14/100\n",
            "28/28 [==============================] - 0s 9ms/step - loss: 1.2826 - accuracy: 0.6054 - val_loss: 13.0247 - val_accuracy: 0.0270\n",
            "Epoch 15/100\n",
            "28/28 [==============================] - 0s 10ms/step - loss: 1.2459 - accuracy: 0.6088 - val_loss: 13.1696 - val_accuracy: 0.0315\n",
            "Epoch 16/100\n",
            "28/28 [==============================] - 0s 8ms/step - loss: 1.1827 - accuracy: 0.6234 - val_loss: 13.3066 - val_accuracy: 0.0315\n",
            "Epoch 17/100\n",
            "28/28 [==============================] - 0s 9ms/step - loss: 1.2188 - accuracy: 0.6156 - val_loss: 13.2688 - val_accuracy: 0.0315\n",
            "Epoch 18/100\n",
            "28/28 [==============================] - 0s 8ms/step - loss: 1.1808 - accuracy: 0.6404 - val_loss: 13.3343 - val_accuracy: 0.0315\n",
            "Epoch 19/100\n",
            "28/28 [==============================] - 0s 8ms/step - loss: 1.3508 - accuracy: 0.6065 - val_loss: 12.7992 - val_accuracy: 0.0360\n",
            "Epoch 20/100\n",
            "28/28 [==============================] - 0s 10ms/step - loss: 1.2759 - accuracy: 0.6122 - val_loss: 12.5667 - val_accuracy: 0.0270\n",
            "Epoch 21/100\n",
            "28/28 [==============================] - 0s 8ms/step - loss: 1.1810 - accuracy: 0.6065 - val_loss: 12.9092 - val_accuracy: 0.0180\n",
            "Epoch 22/100\n",
            "28/28 [==============================] - 0s 8ms/step - loss: 1.1684 - accuracy: 0.6223 - val_loss: 13.4052 - val_accuracy: 0.0495\n",
            "Epoch 23/100\n",
            "28/28 [==============================] - 0s 8ms/step - loss: 1.1867 - accuracy: 0.6302 - val_loss: 13.3279 - val_accuracy: 0.0360\n",
            "Epoch 24/100\n",
            "28/28 [==============================] - 0s 8ms/step - loss: 1.1784 - accuracy: 0.6201 - val_loss: 13.3864 - val_accuracy: 0.0225\n",
            "Epoch 25/100\n",
            "28/28 [==============================] - 0s 8ms/step - loss: 1.1543 - accuracy: 0.6370 - val_loss: 13.5318 - val_accuracy: 0.0405\n",
            "Epoch 26/100\n",
            "28/28 [==============================] - 0s 8ms/step - loss: 1.1503 - accuracy: 0.6257 - val_loss: 13.3790 - val_accuracy: 0.0315\n",
            "Epoch 27/100\n",
            "28/28 [==============================] - 0s 8ms/step - loss: 1.1275 - accuracy: 0.6449 - val_loss: 13.7738 - val_accuracy: 0.0360\n",
            "Epoch 28/100\n",
            "28/28 [==============================] - 0s 8ms/step - loss: 1.1109 - accuracy: 0.6618 - val_loss: 13.7400 - val_accuracy: 0.0270\n",
            "Epoch 29/100\n",
            "28/28 [==============================] - 0s 8ms/step - loss: 1.1858 - accuracy: 0.6212 - val_loss: 13.8633 - val_accuracy: 0.0405\n",
            "Epoch 30/100\n",
            "28/28 [==============================] - 0s 8ms/step - loss: 1.1520 - accuracy: 0.6483 - val_loss: 14.0283 - val_accuracy: 0.0315\n",
            "Epoch 31/100\n",
            "28/28 [==============================] - 0s 10ms/step - loss: 1.0269 - accuracy: 0.6663 - val_loss: 13.9253 - val_accuracy: 0.0270\n",
            "Epoch 32/100\n",
            "28/28 [==============================] - 0s 8ms/step - loss: 1.1821 - accuracy: 0.6246 - val_loss: 13.7893 - val_accuracy: 0.0225\n",
            "Epoch 33/100\n",
            "28/28 [==============================] - 0s 10ms/step - loss: 1.1640 - accuracy: 0.6483 - val_loss: 13.4178 - val_accuracy: 0.0405\n",
            "Epoch 34/100\n",
            "28/28 [==============================] - 0s 8ms/step - loss: 1.0632 - accuracy: 0.6618 - val_loss: 13.8121 - val_accuracy: 0.0360\n",
            "Epoch 35/100\n",
            "28/28 [==============================] - 0s 8ms/step - loss: 1.1351 - accuracy: 0.6302 - val_loss: 13.7414 - val_accuracy: 0.0405\n",
            "Epoch 36/100\n",
            "28/28 [==============================] - 0s 8ms/step - loss: 1.1404 - accuracy: 0.6561 - val_loss: 13.8924 - val_accuracy: 0.0315\n",
            "Epoch 37/100\n",
            "28/28 [==============================] - 0s 8ms/step - loss: 1.1529 - accuracy: 0.6483 - val_loss: 13.7449 - val_accuracy: 0.0270\n",
            "Epoch 38/100\n",
            "28/28 [==============================] - 0s 8ms/step - loss: 1.1126 - accuracy: 0.6595 - val_loss: 13.7600 - val_accuracy: 0.0360\n",
            "Epoch 39/100\n",
            "28/28 [==============================] - 0s 8ms/step - loss: 1.1737 - accuracy: 0.6280 - val_loss: 13.5707 - val_accuracy: 0.0270\n",
            "Epoch 40/100\n",
            "28/28 [==============================] - 0s 7ms/step - loss: 1.1700 - accuracy: 0.6336 - val_loss: 13.5948 - val_accuracy: 0.0405\n",
            "Epoch 41/100\n",
            "28/28 [==============================] - 0s 10ms/step - loss: 1.0797 - accuracy: 0.6573 - val_loss: 13.7526 - val_accuracy: 0.0225\n",
            "Epoch 42/100\n",
            "28/28 [==============================] - 0s 9ms/step - loss: 1.1144 - accuracy: 0.6471 - val_loss: 13.4143 - val_accuracy: 0.0225\n",
            "Epoch 43/100\n",
            "28/28 [==============================] - 0s 9ms/step - loss: 1.0718 - accuracy: 0.6550 - val_loss: 13.6935 - val_accuracy: 0.0315\n",
            "Epoch 44/100\n",
            "28/28 [==============================] - 0s 8ms/step - loss: 1.1262 - accuracy: 0.6505 - val_loss: 13.7131 - val_accuracy: 0.0225\n",
            "Epoch 45/100\n",
            "28/28 [==============================] - 0s 8ms/step - loss: 1.1408 - accuracy: 0.6404 - val_loss: 13.7211 - val_accuracy: 0.0225\n",
            "Epoch 46/100\n",
            "28/28 [==============================] - 0s 9ms/step - loss: 1.1933 - accuracy: 0.6359 - val_loss: 13.5319 - val_accuracy: 0.0360\n",
            "Epoch 47/100\n",
            "28/28 [==============================] - 0s 8ms/step - loss: 1.1552 - accuracy: 0.6280 - val_loss: 13.3768 - val_accuracy: 0.0315\n",
            "Epoch 48/100\n",
            "28/28 [==============================] - 0s 9ms/step - loss: 1.0748 - accuracy: 0.6595 - val_loss: 13.5322 - val_accuracy: 0.0315\n",
            "Epoch 49/100\n",
            "28/28 [==============================] - 0s 8ms/step - loss: 1.1405 - accuracy: 0.6336 - val_loss: 13.8546 - val_accuracy: 0.0360\n",
            "Epoch 50/100\n",
            "28/28 [==============================] - 0s 8ms/step - loss: 1.1029 - accuracy: 0.6719 - val_loss: 13.4761 - val_accuracy: 0.0315\n",
            "Epoch 51/100\n",
            "28/28 [==============================] - 0s 8ms/step - loss: 1.1541 - accuracy: 0.6325 - val_loss: 13.6518 - val_accuracy: 0.0270\n",
            "Epoch 52/100\n",
            "28/28 [==============================] - 0s 8ms/step - loss: 1.1295 - accuracy: 0.6449 - val_loss: 13.6408 - val_accuracy: 0.0450\n",
            "Epoch 53/100\n",
            "28/28 [==============================] - 0s 10ms/step - loss: 1.0908 - accuracy: 0.6494 - val_loss: 13.7937 - val_accuracy: 0.0315\n",
            "Epoch 54/100\n",
            "28/28 [==============================] - 0s 9ms/step - loss: 1.0519 - accuracy: 0.6787 - val_loss: 13.7000 - val_accuracy: 0.0405\n",
            "Epoch 55/100\n",
            "28/28 [==============================] - 0s 10ms/step - loss: 0.9473 - accuracy: 0.6911 - val_loss: 13.9047 - val_accuracy: 0.0315\n",
            "Epoch 56/100\n",
            "28/28 [==============================] - 0s 8ms/step - loss: 1.0467 - accuracy: 0.6798 - val_loss: 14.0808 - val_accuracy: 0.0405\n",
            "Epoch 57/100\n",
            "28/28 [==============================] - 0s 8ms/step - loss: 1.1309 - accuracy: 0.6663 - val_loss: 13.8814 - val_accuracy: 0.0405\n",
            "Epoch 58/100\n",
            "28/28 [==============================] - 0s 8ms/step - loss: 1.0539 - accuracy: 0.6652 - val_loss: 13.5597 - val_accuracy: 0.0360\n",
            "Epoch 59/100\n",
            "28/28 [==============================] - 0s 8ms/step - loss: 1.0713 - accuracy: 0.6516 - val_loss: 13.7583 - val_accuracy: 0.0405\n",
            "Epoch 60/100\n",
            "28/28 [==============================] - 0s 10ms/step - loss: 1.0252 - accuracy: 0.6764 - val_loss: 13.6272 - val_accuracy: 0.0315\n",
            "Epoch 61/100\n",
            "28/28 [==============================] - 0s 8ms/step - loss: 1.0767 - accuracy: 0.6539 - val_loss: 13.9435 - val_accuracy: 0.0225\n",
            "Epoch 62/100\n",
            "28/28 [==============================] - 0s 8ms/step - loss: 1.0992 - accuracy: 0.6719 - val_loss: 13.9545 - val_accuracy: 0.0360\n",
            "Epoch 63/100\n",
            "28/28 [==============================] - 0s 8ms/step - loss: 1.0734 - accuracy: 0.6618 - val_loss: 13.2110 - val_accuracy: 0.0405\n",
            "Epoch 64/100\n",
            "28/28 [==============================] - 0s 8ms/step - loss: 1.1129 - accuracy: 0.6674 - val_loss: 13.3485 - val_accuracy: 0.0315\n",
            "Epoch 65/100\n",
            "28/28 [==============================] - 0s 9ms/step - loss: 1.0608 - accuracy: 0.6742 - val_loss: 13.3234 - val_accuracy: 0.0360\n",
            "Epoch 66/100\n",
            "28/28 [==============================] - 0s 8ms/step - loss: 1.0862 - accuracy: 0.6584 - val_loss: 13.5212 - val_accuracy: 0.0225\n",
            "Epoch 67/100\n",
            "28/28 [==============================] - 0s 8ms/step - loss: 1.0392 - accuracy: 0.6708 - val_loss: 13.4622 - val_accuracy: 0.0405\n",
            "Epoch 68/100\n",
            "28/28 [==============================] - 0s 8ms/step - loss: 0.9962 - accuracy: 0.7024 - val_loss: 13.8212 - val_accuracy: 0.0315\n",
            "Epoch 69/100\n",
            "28/28 [==============================] - 0s 9ms/step - loss: 0.9689 - accuracy: 0.6945 - val_loss: 14.0474 - val_accuracy: 0.0315\n",
            "Epoch 70/100\n",
            "28/28 [==============================] - 0s 10ms/step - loss: 0.9945 - accuracy: 0.6967 - val_loss: 14.2531 - val_accuracy: 0.0270\n",
            "Epoch 71/100\n",
            "28/28 [==============================] - 0s 9ms/step - loss: 1.0503 - accuracy: 0.6697 - val_loss: 14.1313 - val_accuracy: 0.0225\n",
            "Epoch 72/100\n",
            "28/28 [==============================] - 0s 8ms/step - loss: 0.9780 - accuracy: 0.6888 - val_loss: 14.1666 - val_accuracy: 0.0315\n",
            "Epoch 73/100\n",
            "28/28 [==============================] - 0s 8ms/step - loss: 0.9283 - accuracy: 0.7091 - val_loss: 14.6483 - val_accuracy: 0.0405\n",
            "Epoch 74/100\n",
            "28/28 [==============================] - 0s 8ms/step - loss: 0.9862 - accuracy: 0.6933 - val_loss: 14.5149 - val_accuracy: 0.0315\n",
            "Epoch 75/100\n",
            "28/28 [==============================] - 0s 8ms/step - loss: 0.9841 - accuracy: 0.7012 - val_loss: 14.4636 - val_accuracy: 0.0360\n",
            "Epoch 76/100\n",
            "28/28 [==============================] - 0s 8ms/step - loss: 0.9667 - accuracy: 0.6933 - val_loss: 14.3406 - val_accuracy: 0.0495\n",
            "Epoch 77/100\n",
            "28/28 [==============================] - 0s 8ms/step - loss: 1.0956 - accuracy: 0.6415 - val_loss: 14.2354 - val_accuracy: 0.0270\n",
            "Epoch 78/100\n",
            "28/28 [==============================] - 0s 8ms/step - loss: 1.0877 - accuracy: 0.6640 - val_loss: 14.3605 - val_accuracy: 0.0270\n",
            "Epoch 79/100\n",
            "28/28 [==============================] - 0s 8ms/step - loss: 1.1043 - accuracy: 0.6663 - val_loss: 14.3431 - val_accuracy: 0.0270\n",
            "Epoch 80/100\n",
            "28/28 [==============================] - 0s 9ms/step - loss: 0.9436 - accuracy: 0.7035 - val_loss: 14.2130 - val_accuracy: 0.0360\n",
            "Epoch 81/100\n",
            "28/28 [==============================] - 0s 9ms/step - loss: 1.1262 - accuracy: 0.6573 - val_loss: 14.1795 - val_accuracy: 0.0360\n",
            "Epoch 82/100\n",
            "28/28 [==============================] - 0s 8ms/step - loss: 1.0113 - accuracy: 0.6843 - val_loss: 13.7755 - val_accuracy: 0.0270\n",
            "Epoch 83/100\n",
            "28/28 [==============================] - 0s 9ms/step - loss: 1.0190 - accuracy: 0.6764 - val_loss: 13.9607 - val_accuracy: 0.0225\n",
            "Epoch 84/100\n",
            "28/28 [==============================] - 0s 8ms/step - loss: 1.0160 - accuracy: 0.6877 - val_loss: 14.3622 - val_accuracy: 0.0180\n",
            "Epoch 85/100\n",
            "28/28 [==============================] - 0s 8ms/step - loss: 0.9476 - accuracy: 0.7057 - val_loss: 14.4212 - val_accuracy: 0.0135\n",
            "Epoch 86/100\n",
            "28/28 [==============================] - 0s 8ms/step - loss: 1.1081 - accuracy: 0.6663 - val_loss: 14.1414 - val_accuracy: 0.0225\n",
            "Epoch 87/100\n",
            "28/28 [==============================] - 0s 8ms/step - loss: 0.9892 - accuracy: 0.6843 - val_loss: 14.5566 - val_accuracy: 0.0135\n",
            "Epoch 88/100\n",
            "28/28 [==============================] - 0s 8ms/step - loss: 1.0613 - accuracy: 0.6595 - val_loss: 14.0469 - val_accuracy: 0.0315\n",
            "Epoch 89/100\n",
            "28/28 [==============================] - 0s 8ms/step - loss: 0.9734 - accuracy: 0.7035 - val_loss: 14.2092 - val_accuracy: 0.0135\n",
            "Epoch 90/100\n",
            "28/28 [==============================] - 0s 8ms/step - loss: 1.0052 - accuracy: 0.6809 - val_loss: 14.1751 - val_accuracy: 0.0180\n",
            "Epoch 91/100\n",
            "28/28 [==============================] - 0s 8ms/step - loss: 1.0209 - accuracy: 0.6832 - val_loss: 14.2869 - val_accuracy: 0.0405\n",
            "Epoch 92/100\n",
            "28/28 [==============================] - 0s 8ms/step - loss: 0.9585 - accuracy: 0.6990 - val_loss: 14.7018 - val_accuracy: 0.0225\n",
            "Epoch 93/100\n",
            "28/28 [==============================] - 0s 9ms/step - loss: 0.9721 - accuracy: 0.7001 - val_loss: 14.6984 - val_accuracy: 0.0180\n",
            "Epoch 94/100\n",
            "28/28 [==============================] - 0s 8ms/step - loss: 0.9335 - accuracy: 0.7114 - val_loss: 14.6745 - val_accuracy: 0.0315\n",
            "Epoch 95/100\n",
            "28/28 [==============================] - 0s 8ms/step - loss: 0.9320 - accuracy: 0.6798 - val_loss: 14.6279 - val_accuracy: 0.0360\n",
            "Epoch 96/100\n",
            "28/28 [==============================] - 0s 8ms/step - loss: 0.9908 - accuracy: 0.6843 - val_loss: 14.7570 - val_accuracy: 0.0315\n",
            "Epoch 97/100\n",
            "28/28 [==============================] - 0s 8ms/step - loss: 1.0136 - accuracy: 0.7012 - val_loss: 14.7737 - val_accuracy: 0.0360\n",
            "Epoch 98/100\n",
            "28/28 [==============================] - 0s 9ms/step - loss: 1.0825 - accuracy: 0.6832 - val_loss: 14.1307 - val_accuracy: 0.0495\n",
            "Epoch 99/100\n",
            "28/28 [==============================] - 0s 8ms/step - loss: 1.0244 - accuracy: 0.6866 - val_loss: 14.1522 - val_accuracy: 0.0360\n",
            "Epoch 100/100\n",
            "28/28 [==============================] - 0s 9ms/step - loss: 1.2440 - accuracy: 0.6471 - val_loss: 13.5365 - val_accuracy: 0.0315\n"
          ]
        },
        {
          "output_type": "execute_result",
          "data": {
            "text/plain": [
              "<keras.callbacks.History at 0x7f64fe99f590>"
            ]
          },
          "metadata": {},
          "execution_count": 31
        }
      ]
    }
  ]
}