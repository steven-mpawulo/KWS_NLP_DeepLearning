{
  "nbformat": 4,
  "nbformat_minor": 0,
  "metadata": {
    "colab": {
      "provenance": [],
      "collapsed_sections": [],
      "authorship_tag": "ABX9TyNr3aqrCrn7eekF0X+EHdMJ",
      "include_colab_link": true
    },
    "kernelspec": {
      "name": "python3",
      "display_name": "Python 3"
    },
    "language_info": {
      "name": "python"
    },
    "accelerator": "GPU"
  },
  "cells": [
    {
      "cell_type": "markdown",
      "metadata": {
        "id": "view-in-github",
        "colab_type": "text"
      },
      "source": [
        "<a href=\"https://colab.research.google.com/github/steven-mpawulo/KWS_NLP_DeepLearning/blob/main/KWS_NLP_.ipynb\" target=\"_parent\"><img src=\"https://colab.research.google.com/assets/colab-badge.svg\" alt=\"Open In Colab\"/></a>"
      ]
    },
    {
      "cell_type": "code",
      "source": [
        "from google.colab import drive\n",
        "drive.mount('/content/drive')"
      ],
      "metadata": {
        "colab": {
          "base_uri": "https://localhost:8080/"
        },
        "id": "pR66CP8of41J",
        "outputId": "ce890e9c-30ab-465f-9246-010d6bda1a5c"
      },
      "execution_count": 11,
      "outputs": [
        {
          "output_type": "stream",
          "name": "stdout",
          "text": [
            "Drive already mounted at /content/drive; to attempt to forcibly remount, call drive.mount(\"/content/drive\", force_remount=True).\n"
          ]
        }
      ]
    },
    {
      "cell_type": "code",
      "source": [
        "import os\n",
        "import pandas as pd\n",
        "import numpy as np \n",
        "import librosa\n",
        "import librosa.display\n",
        "from glob import glob\n",
        "import IPython.display as ipd\n",
        "from matplotlib import pyplot as plt\n",
        "import sklearn\n",
        "from sklearn.preprocessing import LabelEncoder\n",
        "from sklearn.model_selection import train_test_split\n",
        "import tensorflow as tf\n",
        "\n"
      ],
      "metadata": {
        "id": "2uN164S0ggeU"
      },
      "execution_count": 12,
      "outputs": []
    },
    {
      "cell_type": "code",
      "source": [
        "df = pd.read_csv('/content/drive/MyDrive/KWS Dataset/Train.csv')"
      ],
      "metadata": {
        "id": "S4mfgg0dnuOU"
      },
      "execution_count": 13,
      "outputs": []
    },
    {
      "cell_type": "code",
      "source": [
        "df"
      ],
      "metadata": {
        "colab": {
          "base_uri": "https://localhost:8080/",
          "height": 424
        },
        "id": "0Xy5FxSkn5-u",
        "outputId": "6368edb1-8553-4857-ed3d-558ce5af5467"
      },
      "execution_count": 14,
      "outputs": [
        {
          "output_type": "execute_result",
          "data": {
            "text/plain": [
              "                           fn        label\n",
              "0     audio_files/IV38R7F.wav      akawuka\n",
              "1     audio_files/KM4SKWT.wav       banana\n",
              "2     audio_files/F5POSU9.wav    obulwadde\n",
              "3     audio_files/MMVDXG2.wav     nnyaanya\n",
              "4     audio_files/9TVM96F.wav        pampu\n",
              "...                       ...          ...\n",
              "1104  audio_files/QNZECA9.wav      cassava\n",
              "1105  audio_files/GUIY718.wav   harvesting\n",
              "1106  audio_files/W38UIGC.wav         farm\n",
              "1107  audio_files/E04FSN7.wav  nakavundira\n",
              "1108  audio_files/2MV9KPP.wav  nursery bed\n",
              "\n",
              "[1109 rows x 2 columns]"
            ],
            "text/html": [
              "\n",
              "  <div id=\"df-e2380b43-2f91-4519-8791-e16dcfc46ce5\">\n",
              "    <div class=\"colab-df-container\">\n",
              "      <div>\n",
              "<style scoped>\n",
              "    .dataframe tbody tr th:only-of-type {\n",
              "        vertical-align: middle;\n",
              "    }\n",
              "\n",
              "    .dataframe tbody tr th {\n",
              "        vertical-align: top;\n",
              "    }\n",
              "\n",
              "    .dataframe thead th {\n",
              "        text-align: right;\n",
              "    }\n",
              "</style>\n",
              "<table border=\"1\" class=\"dataframe\">\n",
              "  <thead>\n",
              "    <tr style=\"text-align: right;\">\n",
              "      <th></th>\n",
              "      <th>fn</th>\n",
              "      <th>label</th>\n",
              "    </tr>\n",
              "  </thead>\n",
              "  <tbody>\n",
              "    <tr>\n",
              "      <th>0</th>\n",
              "      <td>audio_files/IV38R7F.wav</td>\n",
              "      <td>akawuka</td>\n",
              "    </tr>\n",
              "    <tr>\n",
              "      <th>1</th>\n",
              "      <td>audio_files/KM4SKWT.wav</td>\n",
              "      <td>banana</td>\n",
              "    </tr>\n",
              "    <tr>\n",
              "      <th>2</th>\n",
              "      <td>audio_files/F5POSU9.wav</td>\n",
              "      <td>obulwadde</td>\n",
              "    </tr>\n",
              "    <tr>\n",
              "      <th>3</th>\n",
              "      <td>audio_files/MMVDXG2.wav</td>\n",
              "      <td>nnyaanya</td>\n",
              "    </tr>\n",
              "    <tr>\n",
              "      <th>4</th>\n",
              "      <td>audio_files/9TVM96F.wav</td>\n",
              "      <td>pampu</td>\n",
              "    </tr>\n",
              "    <tr>\n",
              "      <th>...</th>\n",
              "      <td>...</td>\n",
              "      <td>...</td>\n",
              "    </tr>\n",
              "    <tr>\n",
              "      <th>1104</th>\n",
              "      <td>audio_files/QNZECA9.wav</td>\n",
              "      <td>cassava</td>\n",
              "    </tr>\n",
              "    <tr>\n",
              "      <th>1105</th>\n",
              "      <td>audio_files/GUIY718.wav</td>\n",
              "      <td>harvesting</td>\n",
              "    </tr>\n",
              "    <tr>\n",
              "      <th>1106</th>\n",
              "      <td>audio_files/W38UIGC.wav</td>\n",
              "      <td>farm</td>\n",
              "    </tr>\n",
              "    <tr>\n",
              "      <th>1107</th>\n",
              "      <td>audio_files/E04FSN7.wav</td>\n",
              "      <td>nakavundira</td>\n",
              "    </tr>\n",
              "    <tr>\n",
              "      <th>1108</th>\n",
              "      <td>audio_files/2MV9KPP.wav</td>\n",
              "      <td>nursery bed</td>\n",
              "    </tr>\n",
              "  </tbody>\n",
              "</table>\n",
              "<p>1109 rows × 2 columns</p>\n",
              "</div>\n",
              "      <button class=\"colab-df-convert\" onclick=\"convertToInteractive('df-e2380b43-2f91-4519-8791-e16dcfc46ce5')\"\n",
              "              title=\"Convert this dataframe to an interactive table.\"\n",
              "              style=\"display:none;\">\n",
              "        \n",
              "  <svg xmlns=\"http://www.w3.org/2000/svg\" height=\"24px\"viewBox=\"0 0 24 24\"\n",
              "       width=\"24px\">\n",
              "    <path d=\"M0 0h24v24H0V0z\" fill=\"none\"/>\n",
              "    <path d=\"M18.56 5.44l.94 2.06.94-2.06 2.06-.94-2.06-.94-.94-2.06-.94 2.06-2.06.94zm-11 1L8.5 8.5l.94-2.06 2.06-.94-2.06-.94L8.5 2.5l-.94 2.06-2.06.94zm10 10l.94 2.06.94-2.06 2.06-.94-2.06-.94-.94-2.06-.94 2.06-2.06.94z\"/><path d=\"M17.41 7.96l-1.37-1.37c-.4-.4-.92-.59-1.43-.59-.52 0-1.04.2-1.43.59L10.3 9.45l-7.72 7.72c-.78.78-.78 2.05 0 2.83L4 21.41c.39.39.9.59 1.41.59.51 0 1.02-.2 1.41-.59l7.78-7.78 2.81-2.81c.8-.78.8-2.07 0-2.86zM5.41 20L4 18.59l7.72-7.72 1.47 1.35L5.41 20z\"/>\n",
              "  </svg>\n",
              "      </button>\n",
              "      \n",
              "  <style>\n",
              "    .colab-df-container {\n",
              "      display:flex;\n",
              "      flex-wrap:wrap;\n",
              "      gap: 12px;\n",
              "    }\n",
              "\n",
              "    .colab-df-convert {\n",
              "      background-color: #E8F0FE;\n",
              "      border: none;\n",
              "      border-radius: 50%;\n",
              "      cursor: pointer;\n",
              "      display: none;\n",
              "      fill: #1967D2;\n",
              "      height: 32px;\n",
              "      padding: 0 0 0 0;\n",
              "      width: 32px;\n",
              "    }\n",
              "\n",
              "    .colab-df-convert:hover {\n",
              "      background-color: #E2EBFA;\n",
              "      box-shadow: 0px 1px 2px rgba(60, 64, 67, 0.3), 0px 1px 3px 1px rgba(60, 64, 67, 0.15);\n",
              "      fill: #174EA6;\n",
              "    }\n",
              "\n",
              "    [theme=dark] .colab-df-convert {\n",
              "      background-color: #3B4455;\n",
              "      fill: #D2E3FC;\n",
              "    }\n",
              "\n",
              "    [theme=dark] .colab-df-convert:hover {\n",
              "      background-color: #434B5C;\n",
              "      box-shadow: 0px 1px 3px 1px rgba(0, 0, 0, 0.15);\n",
              "      filter: drop-shadow(0px 1px 2px rgba(0, 0, 0, 0.3));\n",
              "      fill: #FFFFFF;\n",
              "    }\n",
              "  </style>\n",
              "\n",
              "      <script>\n",
              "        const buttonEl =\n",
              "          document.querySelector('#df-e2380b43-2f91-4519-8791-e16dcfc46ce5 button.colab-df-convert');\n",
              "        buttonEl.style.display =\n",
              "          google.colab.kernel.accessAllowed ? 'block' : 'none';\n",
              "\n",
              "        async function convertToInteractive(key) {\n",
              "          const element = document.querySelector('#df-e2380b43-2f91-4519-8791-e16dcfc46ce5');\n",
              "          const dataTable =\n",
              "            await google.colab.kernel.invokeFunction('convertToInteractive',\n",
              "                                                     [key], {});\n",
              "          if (!dataTable) return;\n",
              "\n",
              "          const docLinkHtml = 'Like what you see? Visit the ' +\n",
              "            '<a target=\"_blank\" href=https://colab.research.google.com/notebooks/data_table.ipynb>data table notebook</a>'\n",
              "            + ' to learn more about interactive tables.';\n",
              "          element.innerHTML = '';\n",
              "          dataTable['output_type'] = 'display_data';\n",
              "          await google.colab.output.renderOutput(dataTable, element);\n",
              "          const docLink = document.createElement('div');\n",
              "          docLink.innerHTML = docLinkHtml;\n",
              "          element.appendChild(docLink);\n",
              "        }\n",
              "      </script>\n",
              "    </div>\n",
              "  </div>\n",
              "  "
            ]
          },
          "metadata": {},
          "execution_count": 14
        }
      ]
    },
    {
      "cell_type": "code",
      "source": [
        "# !unzip \"/content/drive/MyDrive/KWS Dataset/audio_files.zip\" -d \"/content/drive/MyDrive/audio_files\""
      ],
      "metadata": {
        "id": "kNOcEq3-oEoB"
      },
      "execution_count": null,
      "outputs": []
    },
    {
      "cell_type": "code",
      "source": [
        "# !unzip \"/content/drive/MyDrive/KWS Dataset/AdditionalUtterances.zip\" -d \"/content/drive/MyDrive/more_audio_files\""
      ],
      "metadata": {
        "id": "TK4zItobtRZm"
      },
      "execution_count": null,
      "outputs": []
    },
    {
      "cell_type": "code",
      "source": [
        "# !unzip \"/content/drive/MyDrive/KWS Dataset/nlp_keywords_29Oct2020.zip\" -d \"/content/drive/MyDrive/nlp_keywords\""
      ],
      "metadata": {
        "id": "EGtUi-WhuARP"
      },
      "execution_count": null,
      "outputs": []
    },
    {
      "cell_type": "code",
      "source": [
        "files =  glob('/content/drive/MyDrive/audio_files/audio_files/*.wav')"
      ],
      "metadata": {
        "id": "uWvtPTpTutYM"
      },
      "execution_count": 15,
      "outputs": []
    },
    {
      "cell_type": "code",
      "source": [
        "len(files)"
      ],
      "metadata": {
        "colab": {
          "base_uri": "https://localhost:8080/"
        },
        "id": "VEvCxdbx06YI",
        "outputId": "c4e44ee3-bef3-41f0-aaec-5bb7aca55238"
      },
      "execution_count": 16,
      "outputs": [
        {
          "output_type": "execute_result",
          "data": {
            "text/plain": [
              "2126"
            ]
          },
          "metadata": {},
          "execution_count": 16
        }
      ]
    },
    {
      "cell_type": "code",
      "source": [
        "ipd.Audio(files[5])"
      ],
      "metadata": {
        "colab": {
          "base_uri": "https://localhost:8080/",
          "height": 75
        },
        "id": "hxxH-KYlvkhu",
        "outputId": "6f973290-fba3-4c98-c1fa-2452ba52e5e9"
      },
      "execution_count": 7,
      "outputs": [
        {
          "output_type": "execute_result",
          "data": {
            "text/plain": [
              "<IPython.lib.display.Audio object>"
            ],
            "text/html": [
              "\n",
              "                <audio  controls=\"controls\" >\n",
              "                    <source src=\"data:audio/x-wav;base64,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\" type=\"audio/x-wav\" />\n",
              "                    Your browser does not support the audio element.\n",
              "                </audio>\n",
              "              "
            ]
          },
          "metadata": {},
          "execution_count": 7
        }
      ]
    },
    {
      "cell_type": "code",
      "source": [
        "data, sr = librosa.load(files[5])"
      ],
      "metadata": {
        "id": "AZqpQYJ61avp"
      },
      "execution_count": 8,
      "outputs": []
    },
    {
      "cell_type": "code",
      "source": [
        "z = librosa.feature.melspectrogram(y=data, sr=sr)"
      ],
      "metadata": {
        "id": "2VPRExOXrAsF"
      },
      "execution_count": 9,
      "outputs": []
    },
    {
      "cell_type": "code",
      "source": [
        "z.shape"
      ],
      "metadata": {
        "colab": {
          "base_uri": "https://localhost:8080/"
        },
        "id": "mbymzs62xZf2",
        "outputId": "3d84d2a8-fa84-46db-ceac-d4b54cdf623c"
      },
      "execution_count": 10,
      "outputs": [
        {
          "output_type": "execute_result",
          "data": {
            "text/plain": [
              "(128, 106)"
            ]
          },
          "metadata": {},
          "execution_count": 10
        }
      ]
    },
    {
      "cell_type": "code",
      "source": [
        "librosa.util.normalize(z)"
      ],
      "metadata": {
        "colab": {
          "base_uri": "https://localhost:8080/"
        },
        "id": "zw5B9EGyrNXg",
        "outputId": "55b19448-3331-4636-afab-abfd972bc525"
      },
      "execution_count": 11,
      "outputs": [
        {
          "output_type": "execute_result",
          "data": {
            "text/plain": [
              "array([[1.19028211e-01, 3.27035971e-02, 2.17644172e-03, ...,\n",
              "        2.61923069e-05, 1.52895100e-05, 2.20138827e-04],\n",
              "       [2.94660982e-02, 1.21435942e-02, 9.81771620e-04, ...,\n",
              "        1.67256949e-05, 5.85888529e-06, 2.68556527e-04],\n",
              "       [3.03283315e-02, 1.62682049e-02, 2.65260832e-03, ...,\n",
              "        1.21642789e-03, 3.35656165e-04, 3.58721125e-04],\n",
              "       ...,\n",
              "       [3.66450986e-05, 8.90826504e-06, 1.84797727e-06, ...,\n",
              "        1.10708644e-10, 1.36715236e-10, 7.58701162e-06],\n",
              "       [7.34155037e-06, 3.45701801e-06, 1.02606305e-06, ...,\n",
              "        1.34620010e-10, 1.47384063e-10, 5.93056302e-06],\n",
              "       [9.22059655e-07, 4.34326751e-07, 8.61506493e-08, ...,\n",
              "        4.42106039e-11, 4.29724034e-11, 2.69271686e-06]], dtype=float32)"
            ]
          },
          "metadata": {},
          "execution_count": 11
        }
      ]
    },
    {
      "cell_type": "code",
      "source": [
        "new = pd.Series(data)"
      ],
      "metadata": {
        "id": "UZMZCWV31uMY"
      },
      "execution_count": 14,
      "outputs": []
    },
    {
      "cell_type": "code",
      "source": [
        "new.plot()"
      ],
      "metadata": {
        "colab": {
          "base_uri": "https://localhost:8080/",
          "height": 282
        },
        "id": "Hbzxbi7W14m1",
        "outputId": "41889c0d-fa5a-4762-db6a-f9fa7a14e7f1"
      },
      "execution_count": 15,
      "outputs": [
        {
          "output_type": "execute_result",
          "data": {
            "text/plain": [
              "<matplotlib.axes._subplots.AxesSubplot at 0x7f91f7210810>"
            ]
          },
          "metadata": {},
          "execution_count": 15
        },
        {
          "output_type": "display_data",
          "data": {
            "text/plain": [
              "<Figure size 432x288 with 1 Axes>"
            ],
            "image/png": "[encoded data removed]"
          },
          "metadata": {
            "needs_background": "light"
          }
        }
      ]
    },
    {
      "cell_type": "code",
      "source": [
        "D = librosa.stft(data)"
      ],
      "metadata": {
        "id": "myQiJMRI1_w0"
      },
      "execution_count": 16,
      "outputs": []
    },
    {
      "cell_type": "code",
      "source": [
        "s_db = librosa.amplitude_to_db(np.abs(D), ref=np.max)"
      ],
      "metadata": {
        "id": "DTv6G-KH3vwJ"
      },
      "execution_count": 17,
      "outputs": []
    },
    {
      "cell_type": "code",
      "source": [
        "s_db.shape"
      ],
      "metadata": {
        "colab": {
          "base_uri": "https://localhost:8080/"
        },
        "id": "ZGu0FjMGOo-b",
        "outputId": "8d2adfe9-783f-475d-f3b6-e34071baa8e0"
      },
      "execution_count": 18,
      "outputs": [
        {
          "output_type": "execute_result",
          "data": {
            "text/plain": [
              "(1025, 106)"
            ]
          },
          "metadata": {},
          "execution_count": 18
        }
      ]
    },
    {
      "cell_type": "code",
      "source": [
        "m = s_db[:, :119]"
      ],
      "metadata": {
        "id": "3hLVfYcPxj9S"
      },
      "execution_count": 15,
      "outputs": []
    },
    {
      "cell_type": "code",
      "source": [
        "w = np.resize(s_db,(1025, 119))"
      ],
      "metadata": {
        "id": "Q0m8_oFTmfM0"
      },
      "execution_count": 16,
      "outputs": []
    },
    {
      "cell_type": "code",
      "source": [
        "w.shape"
      ],
      "metadata": {
        "colab": {
          "base_uri": "https://localhost:8080/"
        },
        "id": "MdMoWFmunBTk",
        "outputId": "73e4bf84-94ff-4d62-b0c1-135be73ece81"
      },
      "execution_count": 17,
      "outputs": [
        {
          "output_type": "execute_result",
          "data": {
            "text/plain": [
              "(1025, 119)"
            ]
          },
          "metadata": {},
          "execution_count": 17
        }
      ]
    },
    {
      "cell_type": "code",
      "source": [
        "m.shape"
      ],
      "metadata": {
        "colab": {
          "base_uri": "https://localhost:8080/"
        },
        "id": "h-QJMQuuxvKW",
        "outputId": "b4daa0c4-b00c-4f60-c1e0-8c41760363d0"
      },
      "execution_count": 18,
      "outputs": [
        {
          "output_type": "execute_result",
          "data": {
            "text/plain": [
              "(1025, 106)"
            ]
          },
          "metadata": {},
          "execution_count": 18
        }
      ]
    },
    {
      "cell_type": "code",
      "source": [
        "s_db"
      ],
      "metadata": {
        "colab": {
          "base_uri": "https://localhost:8080/"
        },
        "id": "Eph_QfBLpDKu",
        "outputId": "f93c936f-1e96-4856-f84a-be5000edd198"
      },
      "execution_count": 19,
      "outputs": [
        {
          "output_type": "execute_result",
          "data": {
            "text/plain": [
              "array([[-70.85077 , -71.07749 , -72.89743 , ..., -55.274986, -51.58219 ,\n",
              "        -44.378586],\n",
              "       [-79.13173 , -75.02063 , -78.6239  , ..., -55.34185 , -53.09505 ,\n",
              "        -48.49996 ],\n",
              "       [-79.273735, -80.      , -80.      , ..., -58.946594, -54.31479 ,\n",
              "        -43.544853],\n",
              "       ...,\n",
              "       [-80.      , -80.      , -80.      , ..., -80.      , -80.      ,\n",
              "        -66.67389 ],\n",
              "       [-80.      , -80.      , -80.      , ..., -80.      , -80.      ,\n",
              "        -66.6548  ],\n",
              "       [-80.      , -80.      , -80.      , ..., -80.      , -80.      ,\n",
              "        -66.62116 ]], dtype=float32)"
            ]
          },
          "metadata": {},
          "execution_count": 19
        }
      ]
    },
    {
      "cell_type": "code",
      "source": [
        "librosa.util.normalize(s_db)"
      ],
      "metadata": {
        "colab": {
          "base_uri": "https://localhost:8080/"
        },
        "id": "TB9J6halIYhp",
        "outputId": "7470c776-5413-4bf2-955a-c120dd589a51"
      },
      "execution_count": 20,
      "outputs": [
        {
          "output_type": "execute_result",
          "data": {
            "text/plain": [
              "array([[-0.8856346 , -0.8884686 , -0.91121787, ..., -0.69093734,\n",
              "        -0.6447774 , -0.5547323 ],\n",
              "       [-0.9891466 , -0.93775785, -0.98279876, ..., -0.6917731 ,\n",
              "        -0.6636881 , -0.6062495 ],\n",
              "       [-0.9909217 , -1.        , -1.        , ..., -0.73683244,\n",
              "        -0.6789349 , -0.5443107 ],\n",
              "       ...,\n",
              "       [-1.        , -1.        , -1.        , ..., -1.        ,\n",
              "        -1.        , -0.8334236 ],\n",
              "       [-1.        , -1.        , -1.        , ..., -1.        ,\n",
              "        -1.        , -0.833185  ],\n",
              "       [-1.        , -1.        , -1.        , ..., -1.        ,\n",
              "        -1.        , -0.8327645 ]], dtype=float32)"
            ]
          },
          "metadata": {},
          "execution_count": 20
        }
      ]
    },
    {
      "cell_type": "code",
      "source": [
        "s_db.dtype"
      ],
      "metadata": {
        "colab": {
          "base_uri": "https://localhost:8080/"
        },
        "id": "KUyOrff_86cF",
        "outputId": "c9e63043-e564-484a-dd18-1add55933377"
      },
      "execution_count": 21,
      "outputs": [
        {
          "output_type": "execute_result",
          "data": {
            "text/plain": [
              "dtype('float32')"
            ]
          },
          "metadata": {},
          "execution_count": 21
        }
      ]
    },
    {
      "cell_type": "code",
      "source": [
        "new_s_db = w.reshape(1025, 119, 1)"
      ],
      "metadata": {
        "id": "soyOIKo6pZbk"
      },
      "execution_count": 22,
      "outputs": []
    },
    {
      "cell_type": "code",
      "source": [
        "new_s_db.shape"
      ],
      "metadata": {
        "colab": {
          "base_uri": "https://localhost:8080/"
        },
        "id": "XB0Z8ECmpoPD",
        "outputId": "63f4360c-a31f-432e-c080-65db911549df"
      },
      "execution_count": 23,
      "outputs": [
        {
          "output_type": "execute_result",
          "data": {
            "text/plain": [
              "(1025, 119, 1)"
            ]
          },
          "metadata": {},
          "execution_count": 23
        }
      ]
    },
    {
      "cell_type": "code",
      "source": [
        "s_db.dtype"
      ],
      "metadata": {
        "colab": {
          "base_uri": "https://localhost:8080/"
        },
        "id": "WcJnwoJdO9De",
        "outputId": "3849414a-bbbe-495b-ecfd-fbd57dbb6574"
      },
      "execution_count": 24,
      "outputs": [
        {
          "output_type": "execute_result",
          "data": {
            "text/plain": [
              "dtype('float32')"
            ]
          },
          "metadata": {},
          "execution_count": 24
        }
      ]
    },
    {
      "cell_type": "code",
      "source": [
        "plt.figure()\n",
        "librosa.display.specshow(s_db, x_axis='time', y_axis='log')\n",
        "plt.colorbar()"
      ],
      "metadata": {
        "colab": {
          "base_uri": "https://localhost:8080/",
          "height": 300
        },
        "id": "3-Ng6ODN4k1D",
        "outputId": "9157c6f7-9654-4750-d6f7-d433c9b5dce9"
      },
      "execution_count": 23,
      "outputs": [
        {
          "output_type": "execute_result",
          "data": {
            "text/plain": [
              "<matplotlib.colorbar.Colorbar at 0x7f91f606ec10>"
            ]
          },
          "metadata": {},
          "execution_count": 23
        },
        {
          "output_type": "display_data",
          "data": {
            "text/plain": [
              "<Figure size 432x288 with 2 Axes>"
            ],
            "image/png": "[encoded data removed]"
          },
          "metadata": {
            "needs_background": "light"
          }
        }
      ]
    },
    {
      "cell_type": "code",
      "source": [
        "# audioList = []\n",
        "# labelList = []\n",
        "# def convertAudioToSpec(filename, label):\n",
        "#   pathToDirectory = \"/content/drive/MyDrive/audio_files/\"\n",
        "#   path = pathToDirectory+filename\n",
        "#   data, sr = librosa.load(path)\n",
        "#   D = librosa.stft(data)\n",
        "#   s_db = librosa.amplitude_to_db(np.abs(D), ref=np.max)\n",
        "#   audioList.append(s_db)\n",
        "#   labelList.append(label)\n",
        "\n",
        "#   return {\"audio\": np.array(audioList, dtype=\"float32\"), \"label\": labelList}\n",
        "\n",
        "# result = convertAudioToSpec(\"audio_files/5A9LAVW.wav\", \"amakoola\")\n",
        "# # print(result[\"audio\"][0])\n",
        "# me = result[\"audio\"][0]\n",
        "# me.shape\n",
        "# me.dtype\n",
        "\n",
        "# audioList = []\n",
        "# labelList = []\n",
        "\n"
      ],
      "metadata": {
        "id": "bUDLaGn-PZF5"
      },
      "execution_count": null,
      "outputs": []
    },
    {
      "cell_type": "code",
      "source": [
        "def scale_minmax(X, min=0.0, max=1.0):\n",
        "    X_std = (X - X.min()) / (X.max() - X.min())\n",
        "    X_scaled = X_std * (max - min) + min\n",
        "    return X_scaled"
      ],
      "metadata": {
        "id": "CysFk0VrP82P"
      },
      "execution_count": 64,
      "outputs": []
    },
    {
      "cell_type": "code",
      "source": [
        "def convertAudioToSpec(filename, label):\n",
        "  pathToDirectory = \"/content/drive/MyDrive/audio_files/\"\n",
        "  path = pathToDirectory+filename\n",
        "  data, sr = librosa.load(path)\n",
        "  z = librosa.feature.melspectrogram(y=data, sr=sr, hop_length=512, n_mels=128, time_steps=384)\n",
        "  melspec = librosa.power_to_db(z).astype(np.float32)\n",
        "  new_melspec= librosa.util.normalize(melspec)\n",
        "  m = np.resize(new_melspec,(128, 119))\n",
        "  # D = librosa.stft(data)\n",
        "  # s_db = librosa.amplitude_to_db(np.abs(D), ref=np.max)\n",
        "  # new_s_db = librosa.util.normalize(s_db)\n",
        "  # m=np.resize(new_s_db,(128, 119))\n",
        "  audioList.append(m)\n",
        "  labelList.append(label)\n",
        "\n",
        "  return {\"audio\": audioList, \"label\": labelList}"
      ],
      "metadata": {
        "id": "5hcpYpQJAAqP"
      },
      "execution_count": 65,
      "outputs": []
    },
    {
      "cell_type": "code",
      "source": [
        "audioList = []\n",
        "labelList = []\n",
        "for row in df.itertuples(index=False, name=\"Audio\"):\n",
        "  convertAudioToSpec(row[0], row[1])\n",
        "  \n",
        "\n"
      ],
      "metadata": {
        "id": "fGULHP7TJuWV"
      },
      "execution_count": 18,
      "outputs": []
    },
    {
      "cell_type": "code",
      "source": [
        "dataSet = {\"audio\": audioList, \"label\": labelList}\n"
      ],
      "metadata": {
        "id": "COKqcHPYWEX9"
      },
      "execution_count": 19,
      "outputs": []
    },
    {
      "cell_type": "code",
      "source": [
        "converted_dataSet = pd.DataFrame(dataSet)"
      ],
      "metadata": {
        "id": "Rr867hyeWdrI"
      },
      "execution_count": 20,
      "outputs": []
    },
    {
      "cell_type": "code",
      "source": [
        "converted_dataSet"
      ],
      "metadata": {
        "colab": {
          "base_uri": "https://localhost:8080/",
          "height": 424
        },
        "id": "CmQXy6SYQUtH",
        "outputId": "2b721446-6682-4cda-8d74-09f155affa54"
      },
      "execution_count": 21,
      "outputs": [
        {
          "output_type": "execute_result",
          "data": {
            "text/plain": [
              "                                                  audio        label\n",
              "0     [[-0.9696905, -0.9430456, -0.9428764, -0.94049...      akawuka\n",
              "1     [[0.1614751, 0.25854754, 0.29100934, 0.2267613...       banana\n",
              "2     [[0.36417183, 0.35690024, 0.41392255, 0.316489...    obulwadde\n",
              "3     [[-0.6553665, -0.7043578, -0.62507963, -0.6131...     nnyaanya\n",
              "4     [[-0.61369365, -0.45611295, -0.47570482, -0.68...        pampu\n",
              "...                                                 ...          ...\n",
              "1104  [[0.6861018, 0.7898971, 0.7373877, 0.58102375,...      cassava\n",
              "1105  [[-1.0, -1.0, -1.0, -1.0, -1.0, -1.0, -1.0, -1...   harvesting\n",
              "1106  [[-0.03448691, -0.020345028, -0.024596712, -0....         farm\n",
              "1107  [[-0.60126936, -0.59614474, -0.66231316, -0.66...  nakavundira\n",
              "1108  [[-1.0, -1.0, -1.0, -1.0, -1.0, -1.0, -1.0, -1...  nursery bed\n",
              "\n",
              "[1109 rows x 2 columns]"
            ],
            "text/html": [
              "\n",
              "  <div id=\"df-dc91fc3a-8a8a-416a-a006-a7948c04f510\">\n",
              "    <div class=\"colab-df-container\">\n",
              "      <div>\n",
              "<style scoped>\n",
              "    .dataframe tbody tr th:only-of-type {\n",
              "        vertical-align: middle;\n",
              "    }\n",
              "\n",
              "    .dataframe tbody tr th {\n",
              "        vertical-align: top;\n",
              "    }\n",
              "\n",
              "    .dataframe thead th {\n",
              "        text-align: right;\n",
              "    }\n",
              "</style>\n",
              "<table border=\"1\" class=\"dataframe\">\n",
              "  <thead>\n",
              "    <tr style=\"text-align: right;\">\n",
              "      <th></th>\n",
              "      <th>audio</th>\n",
              "      <th>label</th>\n",
              "    </tr>\n",
              "  </thead>\n",
              "  <tbody>\n",
              "    <tr>\n",
              "      <th>0</th>\n",
              "      <td>[[-0.9696905, -0.9430456, -0.9428764, -0.94049...</td>\n",
              "      <td>akawuka</td>\n",
              "    </tr>\n",
              "    <tr>\n",
              "      <th>1</th>\n",
              "      <td>[[0.1614751, 0.25854754, 0.29100934, 0.2267613...</td>\n",
              "      <td>banana</td>\n",
              "    </tr>\n",
              "    <tr>\n",
              "      <th>2</th>\n",
              "      <td>[[0.36417183, 0.35690024, 0.41392255, 0.316489...</td>\n",
              "      <td>obulwadde</td>\n",
              "    </tr>\n",
              "    <tr>\n",
              "      <th>3</th>\n",
              "      <td>[[-0.6553665, -0.7043578, -0.62507963, -0.6131...</td>\n",
              "      <td>nnyaanya</td>\n",
              "    </tr>\n",
              "    <tr>\n",
              "      <th>4</th>\n",
              "      <td>[[-0.61369365, -0.45611295, -0.47570482, -0.68...</td>\n",
              "      <td>pampu</td>\n",
              "    </tr>\n",
              "    <tr>\n",
              "      <th>...</th>\n",
              "      <td>...</td>\n",
              "      <td>...</td>\n",
              "    </tr>\n",
              "    <tr>\n",
              "      <th>1104</th>\n",
              "      <td>[[0.6861018, 0.7898971, 0.7373877, 0.58102375,...</td>\n",
              "      <td>cassava</td>\n",
              "    </tr>\n",
              "    <tr>\n",
              "      <th>1105</th>\n",
              "      <td>[[-1.0, -1.0, -1.0, -1.0, -1.0, -1.0, -1.0, -1...</td>\n",
              "      <td>harvesting</td>\n",
              "    </tr>\n",
              "    <tr>\n",
              "      <th>1106</th>\n",
              "      <td>[[-0.03448691, -0.020345028, -0.024596712, -0....</td>\n",
              "      <td>farm</td>\n",
              "    </tr>\n",
              "    <tr>\n",
              "      <th>1107</th>\n",
              "      <td>[[-0.60126936, -0.59614474, -0.66231316, -0.66...</td>\n",
              "      <td>nakavundira</td>\n",
              "    </tr>\n",
              "    <tr>\n",
              "      <th>1108</th>\n",
              "      <td>[[-1.0, -1.0, -1.0, -1.0, -1.0, -1.0, -1.0, -1...</td>\n",
              "      <td>nursery bed</td>\n",
              "    </tr>\n",
              "  </tbody>\n",
              "</table>\n",
              "<p>1109 rows × 2 columns</p>\n",
              "</div>\n",
              "      <button class=\"colab-df-convert\" onclick=\"convertToInteractive('df-dc91fc3a-8a8a-416a-a006-a7948c04f510')\"\n",
              "              title=\"Convert this dataframe to an interactive table.\"\n",
              "              style=\"display:none;\">\n",
              "        \n",
              "  <svg xmlns=\"http://www.w3.org/2000/svg\" height=\"24px\"viewBox=\"0 0 24 24\"\n",
              "       width=\"24px\">\n",
              "    <path d=\"M0 0h24v24H0V0z\" fill=\"none\"/>\n",
              "    <path d=\"M18.56 5.44l.94 2.06.94-2.06 2.06-.94-2.06-.94-.94-2.06-.94 2.06-2.06.94zm-11 1L8.5 8.5l.94-2.06 2.06-.94-2.06-.94L8.5 2.5l-.94 2.06-2.06.94zm10 10l.94 2.06.94-2.06 2.06-.94-2.06-.94-.94-2.06-.94 2.06-2.06.94z\"/><path d=\"M17.41 7.96l-1.37-1.37c-.4-.4-.92-.59-1.43-.59-.52 0-1.04.2-1.43.59L10.3 9.45l-7.72 7.72c-.78.78-.78 2.05 0 2.83L4 21.41c.39.39.9.59 1.41.59.51 0 1.02-.2 1.41-.59l7.78-7.78 2.81-2.81c.8-.78.8-2.07 0-2.86zM5.41 20L4 18.59l7.72-7.72 1.47 1.35L5.41 20z\"/>\n",
              "  </svg>\n",
              "      </button>\n",
              "      \n",
              "  <style>\n",
              "    .colab-df-container {\n",
              "      display:flex;\n",
              "      flex-wrap:wrap;\n",
              "      gap: 12px;\n",
              "    }\n",
              "\n",
              "    .colab-df-convert {\n",
              "      background-color: #E8F0FE;\n",
              "      border: none;\n",
              "      border-radius: 50%;\n",
              "      cursor: pointer;\n",
              "      display: none;\n",
              "      fill: #1967D2;\n",
              "      height: 32px;\n",
              "      padding: 0 0 0 0;\n",
              "      width: 32px;\n",
              "    }\n",
              "\n",
              "    .colab-df-convert:hover {\n",
              "      background-color: #E2EBFA;\n",
              "      box-shadow: 0px 1px 2px rgba(60, 64, 67, 0.3), 0px 1px 3px 1px rgba(60, 64, 67, 0.15);\n",
              "      fill: #174EA6;\n",
              "    }\n",
              "\n",
              "    [theme=dark] .colab-df-convert {\n",
              "      background-color: #3B4455;\n",
              "      fill: #D2E3FC;\n",
              "    }\n",
              "\n",
              "    [theme=dark] .colab-df-convert:hover {\n",
              "      background-color: #434B5C;\n",
              "      box-shadow: 0px 1px 3px 1px rgba(0, 0, 0, 0.15);\n",
              "      filter: drop-shadow(0px 1px 2px rgba(0, 0, 0, 0.3));\n",
              "      fill: #FFFFFF;\n",
              "    }\n",
              "  </style>\n",
              "\n",
              "      <script>\n",
              "        const buttonEl =\n",
              "          document.querySelector('#df-dc91fc3a-8a8a-416a-a006-a7948c04f510 button.colab-df-convert');\n",
              "        buttonEl.style.display =\n",
              "          google.colab.kernel.accessAllowed ? 'block' : 'none';\n",
              "\n",
              "        async function convertToInteractive(key) {\n",
              "          const element = document.querySelector('#df-dc91fc3a-8a8a-416a-a006-a7948c04f510');\n",
              "          const dataTable =\n",
              "            await google.colab.kernel.invokeFunction('convertToInteractive',\n",
              "                                                     [key], {});\n",
              "          if (!dataTable) return;\n",
              "\n",
              "          const docLinkHtml = 'Like what you see? Visit the ' +\n",
              "            '<a target=\"_blank\" href=https://colab.research.google.com/notebooks/data_table.ipynb>data table notebook</a>'\n",
              "            + ' to learn more about interactive tables.';\n",
              "          element.innerHTML = '';\n",
              "          dataTable['output_type'] = 'display_data';\n",
              "          await google.colab.output.renderOutput(dataTable, element);\n",
              "          const docLink = document.createElement('div');\n",
              "          docLink.innerHTML = docLinkHtml;\n",
              "          element.appendChild(docLink);\n",
              "        }\n",
              "      </script>\n",
              "    </div>\n",
              "  </div>\n",
              "  "
            ]
          },
          "metadata": {},
          "execution_count": 21
        }
      ]
    },
    {
      "cell_type": "code",
      "source": [
        "welcome = []\n",
        "for data in converted_dataSet['audio']:\n",
        "  welcome.append(data.shape[1])\n",
        "u = pd.Series(welcome)\n",
        "u.unique()\n"
      ],
      "metadata": {
        "colab": {
          "base_uri": "https://localhost:8080/"
        },
        "id": "3lzwETbWwAbx",
        "outputId": "05e9fa64-06a4-4919-914a-6282614e9f32"
      },
      "execution_count": 42,
      "outputs": [
        {
          "output_type": "execute_result",
          "data": {
            "text/plain": [
              "array([106, 108, 109,  44,  57, 101, 119,  47, 104, 114,  86, 107])"
            ]
          },
          "metadata": {},
          "execution_count": 42
        }
      ]
    },
    {
      "cell_type": "code",
      "source": [
        "encoder = LabelEncoder()"
      ],
      "metadata": {
        "id": "sVTUJGBIRhvY"
      },
      "execution_count": 22,
      "outputs": []
    },
    {
      "cell_type": "code",
      "source": [
        "converted_dataSet[\"label\"] = encoder.fit_transform(converted_dataSet[\"label\"])"
      ],
      "metadata": {
        "id": "KsTfegMBRavP"
      },
      "execution_count": 23,
      "outputs": []
    },
    {
      "cell_type": "code",
      "source": [
        "converted_dataSet"
      ],
      "metadata": {
        "colab": {
          "base_uri": "https://localhost:8080/",
          "height": 424
        },
        "id": "KO29gALhcunU",
        "outputId": "32df242b-64e5-4773-aa2c-12db66baee79"
      },
      "execution_count": 24,
      "outputs": [
        {
          "output_type": "execute_result",
          "data": {
            "text/plain": [
              "                                                  audio  label\n",
              "0     [[-0.9696905, -0.9430456, -0.9428764, -0.94049...     10\n",
              "1     [[0.1614751, 0.25854754, 0.29100934, 0.2267613...     16\n",
              "2     [[0.36417183, 0.35690024, 0.41392255, 0.316489...    141\n",
              "3     [[-0.6553665, -0.7043578, -0.62507963, -0.6131...    137\n",
              "4     [[-0.61369365, -0.45611295, -0.47570482, -0.68...    169\n",
              "...                                                 ...    ...\n",
              "1104  [[0.6861018, 0.7898971, 0.7373877, 0.58102375,...     22\n",
              "1105  [[-1.0, -1.0, -1.0, -1.0, -1.0, -1.0, -1.0, -1...     97\n",
              "1106  [[-0.03448691, -0.020345028, -0.024596712, -0....     87\n",
              "1107  [[-0.60126936, -0.59614474, -0.66231316, -0.66...    129\n",
              "1108  [[-1.0, -1.0, -1.0, -1.0, -1.0, -1.0, -1.0, -1...    139\n",
              "\n",
              "[1109 rows x 2 columns]"
            ],
            "text/html": [
              "\n",
              "  <div id=\"df-e4e347a5-8336-4a18-a086-20964abe1cef\">\n",
              "    <div class=\"colab-df-container\">\n",
              "      <div>\n",
              "<style scoped>\n",
              "    .dataframe tbody tr th:only-of-type {\n",
              "        vertical-align: middle;\n",
              "    }\n",
              "\n",
              "    .dataframe tbody tr th {\n",
              "        vertical-align: top;\n",
              "    }\n",
              "\n",
              "    .dataframe thead th {\n",
              "        text-align: right;\n",
              "    }\n",
              "</style>\n",
              "<table border=\"1\" class=\"dataframe\">\n",
              "  <thead>\n",
              "    <tr style=\"text-align: right;\">\n",
              "      <th></th>\n",
              "      <th>audio</th>\n",
              "      <th>label</th>\n",
              "    </tr>\n",
              "  </thead>\n",
              "  <tbody>\n",
              "    <tr>\n",
              "      <th>0</th>\n",
              "      <td>[[-0.9696905, -0.9430456, -0.9428764, -0.94049...</td>\n",
              "      <td>10</td>\n",
              "    </tr>\n",
              "    <tr>\n",
              "      <th>1</th>\n",
              "      <td>[[0.1614751, 0.25854754, 0.29100934, 0.2267613...</td>\n",
              "      <td>16</td>\n",
              "    </tr>\n",
              "    <tr>\n",
              "      <th>2</th>\n",
              "      <td>[[0.36417183, 0.35690024, 0.41392255, 0.316489...</td>\n",
              "      <td>141</td>\n",
              "    </tr>\n",
              "    <tr>\n",
              "      <th>3</th>\n",
              "      <td>[[-0.6553665, -0.7043578, -0.62507963, -0.6131...</td>\n",
              "      <td>137</td>\n",
              "    </tr>\n",
              "    <tr>\n",
              "      <th>4</th>\n",
              "      <td>[[-0.61369365, -0.45611295, -0.47570482, -0.68...</td>\n",
              "      <td>169</td>\n",
              "    </tr>\n",
              "    <tr>\n",
              "      <th>...</th>\n",
              "      <td>...</td>\n",
              "      <td>...</td>\n",
              "    </tr>\n",
              "    <tr>\n",
              "      <th>1104</th>\n",
              "      <td>[[0.6861018, 0.7898971, 0.7373877, 0.58102375,...</td>\n",
              "      <td>22</td>\n",
              "    </tr>\n",
              "    <tr>\n",
              "      <th>1105</th>\n",
              "      <td>[[-1.0, -1.0, -1.0, -1.0, -1.0, -1.0, -1.0, -1...</td>\n",
              "      <td>97</td>\n",
              "    </tr>\n",
              "    <tr>\n",
              "      <th>1106</th>\n",
              "      <td>[[-0.03448691, -0.020345028, -0.024596712, -0....</td>\n",
              "      <td>87</td>\n",
              "    </tr>\n",
              "    <tr>\n",
              "      <th>1107</th>\n",
              "      <td>[[-0.60126936, -0.59614474, -0.66231316, -0.66...</td>\n",
              "      <td>129</td>\n",
              "    </tr>\n",
              "    <tr>\n",
              "      <th>1108</th>\n",
              "      <td>[[-1.0, -1.0, -1.0, -1.0, -1.0, -1.0, -1.0, -1...</td>\n",
              "      <td>139</td>\n",
              "    </tr>\n",
              "  </tbody>\n",
              "</table>\n",
              "<p>1109 rows × 2 columns</p>\n",
              "</div>\n",
              "      <button class=\"colab-df-convert\" onclick=\"convertToInteractive('df-e4e347a5-8336-4a18-a086-20964abe1cef')\"\n",
              "              title=\"Convert this dataframe to an interactive table.\"\n",
              "              style=\"display:none;\">\n",
              "        \n",
              "  <svg xmlns=\"http://www.w3.org/2000/svg\" height=\"24px\"viewBox=\"0 0 24 24\"\n",
              "       width=\"24px\">\n",
              "    <path d=\"M0 0h24v24H0V0z\" fill=\"none\"/>\n",
              "    <path d=\"M18.56 5.44l.94 2.06.94-2.06 2.06-.94-2.06-.94-.94-2.06-.94 2.06-2.06.94zm-11 1L8.5 8.5l.94-2.06 2.06-.94-2.06-.94L8.5 2.5l-.94 2.06-2.06.94zm10 10l.94 2.06.94-2.06 2.06-.94-2.06-.94-.94-2.06-.94 2.06-2.06.94z\"/><path d=\"M17.41 7.96l-1.37-1.37c-.4-.4-.92-.59-1.43-.59-.52 0-1.04.2-1.43.59L10.3 9.45l-7.72 7.72c-.78.78-.78 2.05 0 2.83L4 21.41c.39.39.9.59 1.41.59.51 0 1.02-.2 1.41-.59l7.78-7.78 2.81-2.81c.8-.78.8-2.07 0-2.86zM5.41 20L4 18.59l7.72-7.72 1.47 1.35L5.41 20z\"/>\n",
              "  </svg>\n",
              "      </button>\n",
              "      \n",
              "  <style>\n",
              "    .colab-df-container {\n",
              "      display:flex;\n",
              "      flex-wrap:wrap;\n",
              "      gap: 12px;\n",
              "    }\n",
              "\n",
              "    .colab-df-convert {\n",
              "      background-color: #E8F0FE;\n",
              "      border: none;\n",
              "      border-radius: 50%;\n",
              "      cursor: pointer;\n",
              "      display: none;\n",
              "      fill: #1967D2;\n",
              "      height: 32px;\n",
              "      padding: 0 0 0 0;\n",
              "      width: 32px;\n",
              "    }\n",
              "\n",
              "    .colab-df-convert:hover {\n",
              "      background-color: #E2EBFA;\n",
              "      box-shadow: 0px 1px 2px rgba(60, 64, 67, 0.3), 0px 1px 3px 1px rgba(60, 64, 67, 0.15);\n",
              "      fill: #174EA6;\n",
              "    }\n",
              "\n",
              "    [theme=dark] .colab-df-convert {\n",
              "      background-color: #3B4455;\n",
              "      fill: #D2E3FC;\n",
              "    }\n",
              "\n",
              "    [theme=dark] .colab-df-convert:hover {\n",
              "      background-color: #434B5C;\n",
              "      box-shadow: 0px 1px 3px 1px rgba(0, 0, 0, 0.15);\n",
              "      filter: drop-shadow(0px 1px 2px rgba(0, 0, 0, 0.3));\n",
              "      fill: #FFFFFF;\n",
              "    }\n",
              "  </style>\n",
              "\n",
              "      <script>\n",
              "        const buttonEl =\n",
              "          document.querySelector('#df-e4e347a5-8336-4a18-a086-20964abe1cef button.colab-df-convert');\n",
              "        buttonEl.style.display =\n",
              "          google.colab.kernel.accessAllowed ? 'block' : 'none';\n",
              "\n",
              "        async function convertToInteractive(key) {\n",
              "          const element = document.querySelector('#df-e4e347a5-8336-4a18-a086-20964abe1cef');\n",
              "          const dataTable =\n",
              "            await google.colab.kernel.invokeFunction('convertToInteractive',\n",
              "                                                     [key], {});\n",
              "          if (!dataTable) return;\n",
              "\n",
              "          const docLinkHtml = 'Like what you see? Visit the ' +\n",
              "            '<a target=\"_blank\" href=https://colab.research.google.com/notebooks/data_table.ipynb>data table notebook</a>'\n",
              "            + ' to learn more about interactive tables.';\n",
              "          element.innerHTML = '';\n",
              "          dataTable['output_type'] = 'display_data';\n",
              "          await google.colab.output.renderOutput(dataTable, element);\n",
              "          const docLink = document.createElement('div');\n",
              "          docLink.innerHTML = docLinkHtml;\n",
              "          element.appendChild(docLink);\n",
              "        }\n",
              "      </script>\n",
              "    </div>\n",
              "  </div>\n",
              "  "
            ]
          },
          "metadata": {},
          "execution_count": 24
        }
      ]
    },
    {
      "cell_type": "code",
      "source": [
        "X = converted_dataSet['audio']\n",
        "y = converted_dataSet['label']"
      ],
      "metadata": {
        "id": "bKs_ClRwdlQc"
      },
      "execution_count": 25,
      "outputs": []
    },
    {
      "cell_type": "code",
      "source": [
        "# y.nunique()"
      ],
      "metadata": {
        "colab": {
          "base_uri": "https://localhost:8080/"
        },
        "id": "viPhcrMW0_0H",
        "outputId": "a2b01c90-0f30-420a-b4d2-512c6caf5a13"
      },
      "execution_count": null,
      "outputs": [
        {
          "output_type": "execute_result",
          "data": {
            "text/plain": [
              "193"
            ]
          },
          "metadata": {},
          "execution_count": 49
        }
      ]
    },
    {
      "cell_type": "code",
      "source": [
        "# e = tf.constant(4)"
      ],
      "metadata": {
        "id": "hIS_XMdr5erb"
      },
      "execution_count": null,
      "outputs": []
    },
    {
      "cell_type": "code",
      "source": [
        "# wel = X[0]\n",
        "# wel.shape"
      ],
      "metadata": {
        "colab": {
          "base_uri": "https://localhost:8080/"
        },
        "id": "HpOdr7Y9gkhB",
        "outputId": "d686d0b8-be96-4de6-ad3a-74061a2a1b2e"
      },
      "execution_count": 27,
      "outputs": [
        {
          "output_type": "execute_result",
          "data": {
            "text/plain": [
              "(1025, 119)"
            ]
          },
          "metadata": {},
          "execution_count": 27
        }
      ]
    },
    {
      "cell_type": "code",
      "source": [
        "# wel = wel.reshape(1025, 119,1)"
      ],
      "metadata": {
        "id": "abZDJuIwmLmo"
      },
      "execution_count": null,
      "outputs": []
    },
    {
      "cell_type": "code",
      "source": [
        "# wel.shape"
      ],
      "metadata": {
        "colab": {
          "base_uri": "https://localhost:8080/"
        },
        "id": "qzEZMopCmYBC",
        "outputId": "5ba5c9d3-3eeb-49fa-8630-bfa2e5f7f4cb"
      },
      "execution_count": null,
      "outputs": [
        {
          "output_type": "execute_result",
          "data": {
            "text/plain": [
              "(1025, 119, 1)"
            ]
          },
          "metadata": {},
          "execution_count": 53
        }
      ]
    },
    {
      "cell_type": "code",
      "source": [
        "# b = tf.constant(wel, )"
      ],
      "metadata": {
        "id": "ZQNWH39e4RtG"
      },
      "execution_count": null,
      "outputs": []
    },
    {
      "cell_type": "code",
      "source": [
        "# b.shape"
      ],
      "metadata": {
        "colab": {
          "base_uri": "https://localhost:8080/"
        },
        "id": "SRmwzL4DvJWk",
        "outputId": "d30e2af6-0488-44cd-a0a8-5c34ad3db98c"
      },
      "execution_count": null,
      "outputs": [
        {
          "output_type": "execute_result",
          "data": {
            "text/plain": [
              "TensorShape([1025, 119, 1])"
            ]
          },
          "metadata": {},
          "execution_count": 55
        }
      ]
    },
    {
      "cell_type": "code",
      "source": [
        "tensorList = []\n",
        "shapeList = []\n",
        "for x in X:\n",
        "  # print(x.shape[1])\n",
        "  x = x.reshape(128, 119,1)\n",
        "  x = tf.constant(x, shape=(128, 119,1))\n",
        "  tensorList.append(x)\n",
        "  # if (x.shape[1] == 44):\n",
        "  #   x = x.reshape(1025, 44,1)\n",
        "  #   x = tf.constant(x, shape=(1025, 44, 1))\n",
        "  #   tensorList.append(x)\n",
        "  # # elif (x.shape[1] == 47):\n",
        "  #   x = x.reshape(1025, 47,1)\n",
        "  #   x = tf.constant(x, shape=(1025, 47, 1))\n",
        "  #   tensorList.append(x)\n",
        "  # elif (x.shape[1] == 57):\n",
        "  #   x = x.reshape(1025, 57,1)\n",
        "  #   x = tf.constant(x, shape=(1025, 57, 1))\n",
        "  #   tensorList.append(x)\n",
        "  # elif (x.shape[1] == 86):\n",
        "  #   x = x.reshape(1025, 86,1)\n",
        "  #   x = tf.constant(x, shape=(1025, 86, 1))\n",
        "  #   tensorList.append(x)\n",
        "  # elif (x.shape[1] == 101):\n",
        "  #   x = x.reshape(1025, 101,1)\n",
        "  #   x = tf.constant(x, shape=(1025, 101, 1))\n",
        "  #   tensorList.append(x)\n",
        "  # elif (x.shape[1] == 104):\n",
        "  #   x = x.reshape(1025, 104,1)\n",
        "  #   x = tf.constant(x, shape=(1025, 104, 1))\n",
        "  #   tensorList.append(x)\n"
      ],
      "metadata": {
        "id": "lncBbRhGqnSI"
      },
      "execution_count": 63,
      "outputs": []
    },
    {
      "cell_type": "code",
      "source": [
        "len(tensorList)"
      ],
      "metadata": {
        "colab": {
          "base_uri": "https://localhost:8080/"
        },
        "id": "bns8PQG5waRf",
        "outputId": "4fd17d72-b221-4545-870d-d0c02b27aef7"
      },
      "execution_count": 27,
      "outputs": [
        {
          "output_type": "execute_result",
          "data": {
            "text/plain": [
              "1109"
            ]
          },
          "metadata": {},
          "execution_count": 27
        }
      ]
    },
    {
      "cell_type": "code",
      "source": [],
      "metadata": {
        "id": "pZnm1xOmHo6e"
      },
      "execution_count": null,
      "outputs": []
    },
    {
      "cell_type": "code",
      "source": [
        "labelList = []\n",
        "for i in y:\n",
        "  labelList.append(i)\n"
      ],
      "metadata": {
        "id": "-7eHxTIU6b08"
      },
      "execution_count": 61,
      "outputs": []
    },
    {
      "cell_type": "code",
      "source": [
        "len(labelList)"
      ],
      "metadata": {
        "colab": {
          "base_uri": "https://localhost:8080/"
        },
        "id": "BfXdnunZ_U6i",
        "outputId": "53c96509-504d-4b04-b4f4-55db0c052caa"
      },
      "execution_count": 62,
      "outputs": [
        {
          "output_type": "execute_result",
          "data": {
            "text/plain": [
              "1109"
            ]
          },
          "metadata": {},
          "execution_count": 62
        }
      ]
    },
    {
      "cell_type": "code",
      "source": [
        "ll = tf.keras.utils.to_categorical(labelList)"
      ],
      "metadata": {
        "id": "5aXEcI5s2cfi"
      },
      "execution_count": 30,
      "outputs": []
    },
    {
      "cell_type": "code",
      "source": [
        "ll.shape"
      ],
      "metadata": {
        "colab": {
          "base_uri": "https://localhost:8080/"
        },
        "id": "zOTQd2QQ2ofG",
        "outputId": "fae0bdda-2290-4cd5-baeb-14c4c0cde0b3"
      },
      "execution_count": 31,
      "outputs": [
        {
          "output_type": "execute_result",
          "data": {
            "text/plain": [
              "(1109, 193)"
            ]
          },
          "metadata": {},
          "execution_count": 31
        }
      ]
    },
    {
      "cell_type": "code",
      "source": [
        "new_ll = tf.constant(ll,)"
      ],
      "metadata": {
        "id": "CCeOQfb526Q0"
      },
      "execution_count": 32,
      "outputs": []
    },
    {
      "cell_type": "code",
      "source": [
        "new_ll.shape"
      ],
      "metadata": {
        "colab": {
          "base_uri": "https://localhost:8080/"
        },
        "id": "p9wHkzMyDsqg",
        "outputId": "3f784449-3ff9-4892-a5d9-56bb760c8035"
      },
      "execution_count": 33,
      "outputs": [
        {
          "output_type": "execute_result",
          "data": {
            "text/plain": [
              "TensorShape([1109, 193])"
            ]
          },
          "metadata": {},
          "execution_count": 33
        }
      ]
    },
    {
      "cell_type": "code",
      "source": [
        "newAudioLabel = np.array(new_ll)"
      ],
      "metadata": {
        "id": "nmV-3IQs34VW"
      },
      "execution_count": 34,
      "outputs": []
    },
    {
      "cell_type": "code",
      "source": [
        "newAudioLabel.shape"
      ],
      "metadata": {
        "colab": {
          "base_uri": "https://localhost:8080/"
        },
        "id": "eDd-61VS4BiI",
        "outputId": "52a50fd8-f91e-40c8-ca58-2a78e4b7c6a6"
      },
      "execution_count": 35,
      "outputs": [
        {
          "output_type": "execute_result",
          "data": {
            "text/plain": [
              "(1109, 193)"
            ]
          },
          "metadata": {},
          "execution_count": 35
        }
      ]
    },
    {
      "cell_type": "code",
      "source": [
        "audioLabel = np.array(labelList).astype('float32')"
      ],
      "metadata": {
        "id": "_chbNRbsNHVG"
      },
      "execution_count": 36,
      "outputs": []
    },
    {
      "cell_type": "code",
      "source": [
        "audioLabel.shape"
      ],
      "metadata": {
        "colab": {
          "base_uri": "https://localhost:8080/"
        },
        "id": "udgIUydUNOXN",
        "outputId": "968d4131-8d19-4993-c51a-818761a9b48a"
      },
      "execution_count": 37,
      "outputs": [
        {
          "output_type": "execute_result",
          "data": {
            "text/plain": [
              "(1109,)"
            ]
          },
          "metadata": {},
          "execution_count": 37
        }
      ]
    },
    {
      "cell_type": "code",
      "source": [
        "audioLabel[0]"
      ],
      "metadata": {
        "colab": {
          "base_uri": "https://localhost:8080/"
        },
        "id": "LG2vgzTUz6qM",
        "outputId": "2dca54fe-e1dc-4260-9cfc-dffc3f09bbc4"
      },
      "execution_count": 38,
      "outputs": [
        {
          "output_type": "execute_result",
          "data": {
            "text/plain": [
              "10.0"
            ]
          },
          "metadata": {},
          "execution_count": 38
        }
      ]
    },
    {
      "cell_type": "code",
      "source": [
        "audioData = np.array(tensorList)"
      ],
      "metadata": {
        "id": "SPhrIaiGNUn0"
      },
      "execution_count": 39,
      "outputs": []
    },
    {
      "cell_type": "code",
      "source": [
        "audioData.shape"
      ],
      "metadata": {
        "colab": {
          "base_uri": "https://localhost:8080/"
        },
        "id": "8MFYKaRXNcBA",
        "outputId": "c69415a1-8a6c-4cfc-a9d5-1ec51420936e"
      },
      "execution_count": 40,
      "outputs": [
        {
          "output_type": "execute_result",
          "data": {
            "text/plain": [
              "(1109, 128, 119, 1)"
            ]
          },
          "metadata": {},
          "execution_count": 40
        }
      ]
    },
    {
      "cell_type": "code",
      "source": [
        "# shapes = np.array(shapeList)"
      ],
      "metadata": {
        "id": "L7-_DOCZs8J4"
      },
      "execution_count": null,
      "outputs": []
    },
    {
      "cell_type": "code",
      "source": [
        "# np.unique(shapes)"
      ],
      "metadata": {
        "id": "C1HvqA8etZLd"
      },
      "execution_count": null,
      "outputs": []
    },
    {
      "cell_type": "code",
      "source": [
        "# X.dtype"
      ],
      "metadata": {
        "id": "Qia21xBF8z4W"
      },
      "execution_count": null,
      "outputs": []
    },
    {
      "cell_type": "code",
      "source": [
        "# new_array = X.to_numpy()"
      ],
      "metadata": {
        "id": "8U1BT9S-4uGf"
      },
      "execution_count": null,
      "outputs": []
    },
    {
      "cell_type": "code",
      "source": [
        "# new_array.dtype"
      ],
      "metadata": {
        "id": "pmpEwE6_72--"
      },
      "execution_count": null,
      "outputs": []
    },
    {
      "cell_type": "code",
      "source": [
        "# X.shape"
      ],
      "metadata": {
        "id": "pv78MznLl39r"
      },
      "execution_count": null,
      "outputs": []
    },
    {
      "cell_type": "code",
      "source": [
        "Xtrain, Xval, ytrain, yval = train_test_split(audioData,audioLabel, test_size=0.2, random_state=42)"
      ],
      "metadata": {
        "id": "tg2obZS8dark"
      },
      "execution_count": 41,
      "outputs": []
    },
    {
      "cell_type": "code",
      "source": [
        "Xtrain.shape"
      ],
      "metadata": {
        "id": "FW2XWJO3hJb7",
        "colab": {
          "base_uri": "https://localhost:8080/"
        },
        "outputId": "017b9bfa-96ac-480c-d1df-0f697ab62e4a"
      },
      "execution_count": 42,
      "outputs": [
        {
          "output_type": "execute_result",
          "data": {
            "text/plain": [
              "(887, 128, 119, 1)"
            ]
          },
          "metadata": {},
          "execution_count": 42
        }
      ]
    },
    {
      "cell_type": "code",
      "source": [
        "Xtrain[0]"
      ],
      "metadata": {
        "colab": {
          "base_uri": "https://localhost:8080/"
        },
        "id": "Ql3ZI-Ad1G3Y",
        "outputId": "67af19df-1dd6-471d-9620-deafdeb7ef1c"
      },
      "execution_count": 87,
      "outputs": [
        {
          "output_type": "execute_result",
          "data": {
            "text/plain": [
              "array([[[1.6208194e-03],\n",
              "        [1.7211647e-04],\n",
              "        [8.3687692e-06],\n",
              "        ...,\n",
              "        [1.1318838e-04],\n",
              "        [1.7225331e-05],\n",
              "        [4.8651236e-06]],\n",
              "\n",
              "       [[9.2120408e-06],\n",
              "        [1.3814156e-05],\n",
              "        [3.1315431e-06],\n",
              "        ...,\n",
              "        [2.6407002e-05],\n",
              "        [4.4440243e-05],\n",
              "        [1.2903352e-04]],\n",
              "\n",
              "       [[9.6140684e-05],\n",
              "        [5.5951961e-05],\n",
              "        [1.6284740e-04],\n",
              "        ...,\n",
              "        [6.4293148e-05],\n",
              "        [1.7743217e-04],\n",
              "        [2.1181046e-04]],\n",
              "\n",
              "       ...,\n",
              "\n",
              "       [[1.0000000e+00],\n",
              "        [6.3618469e-01],\n",
              "        [2.2462094e-01],\n",
              "        ...,\n",
              "        [1.8164610e-02],\n",
              "        [8.2766945e-03],\n",
              "        [2.9410298e-03]],\n",
              "\n",
              "       [[1.0415566e-03],\n",
              "        [3.0530768e-03],\n",
              "        [9.4806543e-03],\n",
              "        ...,\n",
              "        [6.8926933e-04],\n",
              "        [7.7113655e-04],\n",
              "        [6.1773969e-04]],\n",
              "\n",
              "       [[2.9649590e-03],\n",
              "        [1.8151937e-03],\n",
              "        [7.2605890e-04],\n",
              "        ...,\n",
              "        [1.5012835e-01],\n",
              "        [2.1990182e-01],\n",
              "        [3.4459251e-01]]], dtype=float32)"
            ]
          },
          "metadata": {},
          "execution_count": 87
        }
      ]
    },
    {
      "cell_type": "code",
      "source": [
        "Xval.shape"
      ],
      "metadata": {
        "colab": {
          "base_uri": "https://localhost:8080/"
        },
        "id": "2dDpG5P-SppP",
        "outputId": "0a92346d-82db-4f41-d798-8a68bc0598c5"
      },
      "execution_count": 43,
      "outputs": [
        {
          "output_type": "execute_result",
          "data": {
            "text/plain": [
              "(222, 128, 119, 1)"
            ]
          },
          "metadata": {},
          "execution_count": 43
        }
      ]
    },
    {
      "cell_type": "code",
      "source": [
        "ytrain.shape"
      ],
      "metadata": {
        "colab": {
          "base_uri": "https://localhost:8080/"
        },
        "id": "_UQvE0tGStW3",
        "outputId": "c8b5b39d-5a8e-4a3f-f5ec-7420f7c9d6e4"
      },
      "execution_count": 44,
      "outputs": [
        {
          "output_type": "execute_result",
          "data": {
            "text/plain": [
              "(887,)"
            ]
          },
          "metadata": {},
          "execution_count": 44
        }
      ]
    },
    {
      "cell_type": "code",
      "source": [
        "yval.shape"
      ],
      "metadata": {
        "colab": {
          "base_uri": "https://localhost:8080/"
        },
        "id": "luXfFBlPSwi4",
        "outputId": "f1cf4014-d5b3-4ecb-ec84-5e882df21cf8"
      },
      "execution_count": 45,
      "outputs": [
        {
          "output_type": "execute_result",
          "data": {
            "text/plain": [
              "(222,)"
            ]
          },
          "metadata": {},
          "execution_count": 45
        }
      ]
    },
    {
      "cell_type": "code",
      "source": [
        "yval[8]"
      ],
      "metadata": {
        "colab": {
          "base_uri": "https://localhost:8080/"
        },
        "id": "6j-GDVvmz1bW",
        "outputId": "7d4eec0c-0356-49c9-dc3a-a1add65ffc2e"
      },
      "execution_count": 46,
      "outputs": [
        {
          "output_type": "execute_result",
          "data": {
            "text/plain": [
              "8.0"
            ]
          },
          "metadata": {},
          "execution_count": 46
        }
      ]
    },
    {
      "cell_type": "code",
      "source": [
        "from tensorflow import keras\n",
        "from keras import layers\n",
        "model = keras.Sequential(\n",
        "    [\n",
        "        layers.Conv2D(32, kernel_size=(3, 3), activation=\"relu\"),\n",
        "        layers.MaxPooling2D(pool_size=(2, 2)),\n",
        "        layers.Conv2D(64, kernel_size=(3, 3), activation=\"relu\"),\n",
        "        layers.MaxPooling2D(pool_size=(2, 2)),\n",
        "        layers.Flatten(),\n",
        "        layers.Dense(512, activation=\"relu\"),\n",
        "        layers.Dense(193, activation=\"softmax\"),\n",
        "    ]\n",
        ")\n",
        "\n",
        "\n"
      ],
      "metadata": {
        "id": "4JkeZgBl0BaB"
      },
      "execution_count": 50,
      "outputs": []
    },
    {
      "cell_type": "code",
      "source": [
        "model.compile(optimizer='adam',\n",
        "              loss='sparse_categorical_crossentropy',\n",
        "              metrics=['accuracy'])"
      ],
      "metadata": {
        "id": "NcmTjM-c0mm_"
      },
      "execution_count": 51,
      "outputs": []
    },
    {
      "cell_type": "code",
      "source": [
        "EPOCHS = 15\n",
        "\n",
        "history = model.fit(Xtrain, ytrain, epochs = EPOCHS)"
      ],
      "metadata": {
        "id": "Rl6W4Adh0wcU",
        "colab": {
          "base_uri": "https://localhost:8080/"
        },
        "outputId": "2c97843d-7d7d-4dc3-fee8-91041a45a9c2"
      },
      "execution_count": 52,
      "outputs": [
        {
          "output_type": "stream",
          "name": "stdout",
          "text": [
            "Epoch 1/15\n",
            "28/28 [==============================] - 21s 702ms/step - loss: 5.5436 - accuracy: 0.0056\n",
            "Epoch 2/15\n",
            "28/28 [==============================] - 20s 701ms/step - loss: 5.1862 - accuracy: 0.0090\n",
            "Epoch 3/15\n",
            "28/28 [==============================] - 20s 700ms/step - loss: 5.0389 - accuracy: 0.0248\n",
            "Epoch 4/15\n",
            "28/28 [==============================] - 20s 698ms/step - loss: 4.7186 - accuracy: 0.0609\n",
            "Epoch 5/15\n",
            "28/28 [==============================] - 20s 700ms/step - loss: 4.0576 - accuracy: 0.1432\n",
            "Epoch 6/15\n",
            "28/28 [==============================] - 20s 701ms/step - loss: 3.0454 - accuracy: 0.3258\n",
            "Epoch 7/15\n",
            "28/28 [==============================] - 20s 700ms/step - loss: 1.8958 - accuracy: 0.5682\n",
            "Epoch 8/15\n",
            "28/28 [==============================] - 20s 702ms/step - loss: 1.1608 - accuracy: 0.7373\n",
            "Epoch 9/15\n",
            "28/28 [==============================] - 20s 699ms/step - loss: 0.6209 - accuracy: 0.8501\n",
            "Epoch 10/15\n",
            "28/28 [==============================] - 20s 698ms/step - loss: 0.3962 - accuracy: 0.9222\n",
            "Epoch 11/15\n",
            "28/28 [==============================] - 20s 700ms/step - loss: 0.2378 - accuracy: 0.9481\n",
            "Epoch 12/15\n",
            "28/28 [==============================] - 20s 703ms/step - loss: 0.2039 - accuracy: 0.9662\n",
            "Epoch 13/15\n",
            "28/28 [==============================] - 20s 703ms/step - loss: 0.1062 - accuracy: 0.9831\n",
            "Epoch 14/15\n",
            "28/28 [==============================] - 20s 702ms/step - loss: 0.0503 - accuracy: 0.9910\n",
            "Epoch 15/15\n",
            "28/28 [==============================] - 20s 706ms/step - loss: 0.0413 - accuracy: 0.9921\n"
          ]
        }
      ]
    },
    {
      "cell_type": "code",
      "source": [
        "\n",
        "plt.plot(history.history['loss'])\n"
      ],
      "metadata": {
        "colab": {
          "base_uri": "https://localhost:8080/",
          "height": 282
        },
        "id": "aR0byl7m2-Z-",
        "outputId": "bcc62362-5c64-4fc0-ca6b-17f5975e8185"
      },
      "execution_count": 53,
      "outputs": [
        {
          "output_type": "execute_result",
          "data": {
            "text/plain": [
              "[<matplotlib.lines.Line2D at 0x7f0102cc6490>]"
            ]
          },
          "metadata": {},
          "execution_count": 53
        },
        {
          "output_type": "display_data",
          "data": {
            "text/plain": [
              "<Figure size 432x288 with 1 Axes>"
            ],
            "image/png": "[encoded data removed]"
          },
          "metadata": {
            "needs_background": "light"
          }
        }
      ]
    },
    {
      "cell_type": "code",
      "source": [
        "plt.plot(history.history['accuracy'],)"
      ],
      "metadata": {
        "colab": {
          "base_uri": "https://localhost:8080/",
          "height": 282
        },
        "id": "IV83E8nK5ruw",
        "outputId": "f1a517c6-daa1-4d99-e0c7-0ce702486180"
      },
      "execution_count": 54,
      "outputs": [
        {
          "output_type": "execute_result",
          "data": {
            "text/plain": [
              "[<matplotlib.lines.Line2D at 0x7f01027a5b90>]"
            ]
          },
          "metadata": {},
          "execution_count": 54
        },
        {
          "output_type": "display_data",
          "data": {
            "text/plain": [
              "<Figure size 432x288 with 1 Axes>"
            ],
            "image/png": "[encoded data removed]"
          },
          "metadata": {
            "needs_background": "light"
          }
        }
      ]
    },
    {
      "cell_type": "code",
      "source": [
        "results = model.evaluate(Xval, yval)"
      ],
      "metadata": {
        "colab": {
          "base_uri": "https://localhost:8080/"
        },
        "id": "LZxAp5zn6vlc",
        "outputId": "3a412d1e-597c-488a-d549-4d9320392b15"
      },
      "execution_count": 56,
      "outputs": [
        {
          "output_type": "stream",
          "name": "stdout",
          "text": [
            "7/7 [==============================] - 1s 164ms/step - loss: 8.8285 - accuracy: 0.1441\n"
          ]
        }
      ]
    },
    {
      "cell_type": "code",
      "source": [
        "predictions = model.predict(Xval)"
      ],
      "metadata": {
        "id": "n1e2j2Q6Bvqd"
      },
      "execution_count": 55,
      "outputs": []
    },
    {
      "cell_type": "code",
      "source": [
        "np.argmax(predictions[2])"
      ],
      "metadata": {
        "colab": {
          "base_uri": "https://localhost:8080/"
        },
        "id": "X7OH2lIwCAX0",
        "outputId": "8b65f8d4-463d-4db6-ad48-4b558740f586"
      },
      "execution_count": 57,
      "outputs": [
        {
          "output_type": "execute_result",
          "data": {
            "text/plain": [
              "131"
            ]
          },
          "metadata": {},
          "execution_count": 57
        }
      ]
    },
    {
      "cell_type": "code",
      "source": [
        "yval[2]"
      ],
      "metadata": {
        "colab": {
          "base_uri": "https://localhost:8080/"
        },
        "id": "WnSSJFcFCNWY",
        "outputId": "512b05c6-6b0e-4e88-8057-14184f1f1a9f"
      },
      "execution_count": 59,
      "outputs": [
        {
          "output_type": "execute_result",
          "data": {
            "text/plain": [
              "171.0"
            ]
          },
          "metadata": {},
          "execution_count": 59
        }
      ]
    }
  ]
}